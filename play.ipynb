{
 "cells": [
  {
   "cell_type": "code",
   "execution_count": 1,
   "source": [
    "import torch\n",
    "import matplotlib.pyplot as plt\n",
    "\n",
    "%matplotlib inline"
   ],
   "outputs": [],
   "metadata": {}
  },
  {
   "cell_type": "code",
   "execution_count": 2,
   "source": [
    "x = [[1,2], [3,4], [5,6], [7,8]]\n",
    "y = [[3],[7],[11],[15]]"
   ],
   "outputs": [],
   "metadata": {}
  },
  {
   "cell_type": "code",
   "execution_count": 3,
   "source": [
    "X = torch.tensor(x, dtype=torch.float)\n",
    "Y = torch.tensor(y, dtype=torch.float)"
   ],
   "outputs": [],
   "metadata": {}
  },
  {
   "cell_type": "code",
   "execution_count": 4,
   "source": [
    "device = 'cuda' if torch.cuda.is_available() else 'cpu'\n",
    "X, Y = X.to(device), Y.to(device)"
   ],
   "outputs": [],
   "metadata": {}
  },
  {
   "cell_type": "code",
   "execution_count": 5,
   "source": [
    "import torch.nn as nn"
   ],
   "outputs": [],
   "metadata": {}
  },
  {
   "cell_type": "code",
   "execution_count": 91,
   "source": [
    "class MyNeuralNet(nn.Module):\n",
    "    def __init__(self):\n",
    "        super().__init__()\n",
    "        self.input_to_hidden = nn.Linear(2, 8)\n",
    "        self.hidden_layer_activation = nn.ReLU()\n",
    "        self.hidden_2_output = nn.Linear(8, 1)\n",
    "\n",
    "    def forward(self, x):\n",
    "        s = self.input_to_hidden(x)\n",
    "        h = self.hidden_layer_activation(s)\n",
    "        o = self.hidden_2_output(h)\n",
    "        return o,h\n",
    "        "
   ],
   "outputs": [],
   "metadata": {}
  },
  {
   "cell_type": "code",
   "execution_count": 7,
   "source": [
    "net = MyNeuralNet()\n",
    "net = net.to(device)"
   ],
   "outputs": [],
   "metadata": {}
  },
  {
   "cell_type": "code",
   "execution_count": 8,
   "source": [
    "net.input_to_hidden.weight.shape"
   ],
   "outputs": [
    {
     "output_type": "execute_result",
     "data": {
      "text/plain": [
       "torch.Size([8, 2])"
      ]
     },
     "metadata": {},
     "execution_count": 8
    }
   ],
   "metadata": {}
  },
  {
   "cell_type": "code",
   "execution_count": 10,
   "source": [
    "X.dtype"
   ],
   "outputs": [
    {
     "output_type": "execute_result",
     "data": {
      "text/plain": [
       "torch.float32"
      ]
     },
     "metadata": {},
     "execution_count": 10
    }
   ],
   "metadata": {}
  },
  {
   "cell_type": "code",
   "execution_count": 11,
   "source": [
    "Y_ = net(X) \n",
    "lossfn = nn.MSELoss()\n",
    "loss = lossfn(Y_, Y)\n",
    "print(loss)"
   ],
   "outputs": [
    {
     "output_type": "stream",
     "name": "stdout",
     "text": [
      "tensor(93.7110, grad_fn=<MseLossBackward>)\n"
     ]
    }
   ],
   "metadata": {}
  },
  {
   "cell_type": "code",
   "execution_count": 12,
   "source": [
    "from torch.optim import SGD"
   ],
   "outputs": [],
   "metadata": {}
  },
  {
   "cell_type": "code",
   "execution_count": 13,
   "source": [
    "sgd = SGD(net.parameters(), lr=0.001)"
   ],
   "outputs": [],
   "metadata": {}
  },
  {
   "cell_type": "code",
   "execution_count": 17,
   "source": [
    "sgd.zero_grad()\n",
    "loss = lossfn(net(X), Y)\n",
    "loss.backward()\n",
    "sgd.step()\n"
   ],
   "outputs": [],
   "metadata": {}
  },
  {
   "cell_type": "code",
   "execution_count": null,
   "source": [
    "loss_history = []\n",
    "for i in range(50):\n",
    "    sgd.zero_grad()\n",
    "    loss = lossfn(net(X), Y)\n",
    "    loss.backward()\n",
    "    sgd.step()\n",
    "    loss_history.append(loss)\n",
    "    print('.')"
   ],
   "outputs": [],
   "metadata": {}
  },
  {
   "cell_type": "code",
   "execution_count": 21,
   "source": [
    "plt.plot([loss.detach() for loss in loss_history])\n",
    "plt.title('loss history')\n",
    "plt.xlabel('epoch')\n",
    "plt.ylabel('training loss')"
   ],
   "outputs": [
    {
     "output_type": "execute_result",
     "data": {
      "text/plain": [
       "Text(0, 0.5, 'training loss')"
      ]
     },
     "metadata": {},
     "execution_count": 21
    },
    {
     "output_type": "display_data",
     "data": {
      "image/png": "[encoded data removed]",
      "text/plain": [
       "<Figure size 432x288 with 1 Axes>"
      ]
     },
     "metadata": {
      "needs_background": "light"
     }
    }
   ],
   "metadata": {}
  },
  {
   "cell_type": "code",
   "execution_count": 23,
   "source": [
    "a = loss_history[-1]"
   ],
   "outputs": [],
   "metadata": {}
  },
  {
   "cell_type": "code",
   "execution_count": 30,
   "source": [
    "a.item()"
   ],
   "outputs": [
    {
     "output_type": "execute_result",
     "data": {
      "text/plain": [
       "0.009439594112336636"
      ]
     },
     "metadata": {},
     "execution_count": 30
    }
   ],
   "metadata": {}
  },
  {
   "cell_type": "code",
   "execution_count": 15,
   "source": [
    "from torch.utils.data import Dataset, DataLoader"
   ],
   "outputs": [],
   "metadata": {}
  },
  {
   "cell_type": "code",
   "execution_count": 16,
   "source": [
    "class MyDataset(Dataset):\n",
    "    def __init__(self, x, y):\n",
    "        self.x = torch.tensor(x, dtype=torch.float32)\n",
    "        self.y = torch.tensor(y, dtype=torch.float32)\n",
    "\n",
    "    def __len__(self):\n",
    "        return len(self.x)\n",
    "\n",
    "    def __getitem__(self, ix):\n",
    "        return self.x[ix], self.y[ix]\n"
   ],
   "outputs": [],
   "metadata": {}
  },
  {
   "cell_type": "code",
   "execution_count": 17,
   "source": [
    "ds = MyDataset(x, y)"
   ],
   "outputs": [],
   "metadata": {}
  },
  {
   "cell_type": "code",
   "execution_count": 18,
   "source": [
    "dl = DataLoader(ds, batch_size=2, shuffle=True)"
   ],
   "outputs": [],
   "metadata": {}
  },
  {
   "cell_type": "code",
   "execution_count": 65,
   "source": [
    "net = MyNeuralNet()\n",
    "opt = SGD(net.parameters(), lr=0.001)\n",
    "loss_history = []\n",
    "for epoch in range(100):\n",
    "    print('.',end='')\n",
    "    for x, y in dl:\n",
    "        opt.zero_grad()\n",
    "        loss = lossfn(net(x), y)\n",
    "        loss.backward()\n",
    "        opt.step()\n",
    "        loss_history.append(loss.item())\n"
   ],
   "outputs": [
    {
     "output_type": "stream",
     "name": "stdout",
     "text": [
      "...................................................................................................."
     ]
    }
   ],
   "metadata": {}
  },
  {
   "cell_type": "code",
   "execution_count": 66,
   "source": [
    "plt.plot(loss_history)"
   ],
   "outputs": [
    {
     "output_type": "execute_result",
     "data": {
      "text/plain": [
       "[<matplotlib.lines.Line2D at 0x7ff00eee6990>]"
      ]
     },
     "metadata": {},
     "execution_count": 66
    },
    {
     "output_type": "display_data",
     "data": {
      "image/png": "[encoded data removed]",
      "text/plain": [
       "<Figure size 432x288 with 1 Axes>"
      ]
     },
     "metadata": {
      "needs_background": "light"
     }
    }
   ],
   "metadata": {}
  },
  {
   "cell_type": "code",
   "execution_count": 67,
   "source": [
    "loss_history[-1]"
   ],
   "outputs": [
    {
     "output_type": "execute_result",
     "data": {
      "text/plain": [
       "0.011270683258771896"
      ]
     },
     "metadata": {},
     "execution_count": 67
    }
   ],
   "metadata": {}
  },
  {
   "cell_type": "code",
   "execution_count": 68,
   "source": [
    "val_x = [[10, 11]]\n",
    "val_x = torch.tensor(val_x).float()"
   ],
   "outputs": [],
   "metadata": {}
  },
  {
   "cell_type": "code",
   "execution_count": 69,
   "source": [
    "net(val_x)"
   ],
   "outputs": [
    {
     "output_type": "execute_result",
     "data": {
      "text/plain": [
       "tensor([[21.0482]], grad_fn=<AddmmBackward>)"
      ]
     },
     "metadata": {},
     "execution_count": 69
    }
   ],
   "metadata": {}
  },
  {
   "cell_type": "code",
   "execution_count": 75,
   "source": [
    "def my_mse_loss(yp, y):\n",
    "    return ((yp - y).abs()).mean()"
   ],
   "outputs": [],
   "metadata": {}
  },
  {
   "cell_type": "code",
   "execution_count": 10,
   "source": [
    "net = MyNeuralNet()\n",
    "opt = SGD(net.parameters(), lr=0.001, momentum=0.9)\n",
    "loss_history = []\n",
    "for epoch in range(200):\n",
    "    if epoch == 100:\n",
    "        opt = SGD(net.parameters(), lr=0.0001, momentum=0.9)\n",
    "    print('.',end='')\n",
    "    for x, y in dl:\n",
    "        opt.zero_grad()\n",
    "        loss = my_mse_loss(net(x)[0], y)\n",
    "        loss.backward()\n",
    "        opt.step()\n",
    "        loss_history.append(loss.item())\n",
    "plt.plot(loss_history)\n",
    "print(loss_history[-1])"
   ],
   "outputs": [
    {
     "output_type": "error",
     "ename": "NameError",
     "evalue": "name 'MyNeuralNet' is not defined",
     "traceback": [
      "\u001b[0;31m---------------------------------------------------------------------------\u001b[0m",
      "\u001b[0;31mNameError\u001b[0m                                 Traceback (most recent call last)",
      "\u001b[0;32m<ipython-input-10-b78a033268c5>\u001b[0m in \u001b[0;36m<module>\u001b[0;34m\u001b[0m\n\u001b[0;32m----> 1\u001b[0;31m \u001b[0mnet\u001b[0m \u001b[0;34m=\u001b[0m \u001b[0mMyNeuralNet\u001b[0m\u001b[0;34m(\u001b[0m\u001b[0;34m)\u001b[0m\u001b[0;34m\u001b[0m\u001b[0;34m\u001b[0m\u001b[0m\n\u001b[0m\u001b[1;32m      2\u001b[0m \u001b[0mopt\u001b[0m \u001b[0;34m=\u001b[0m \u001b[0mSGD\u001b[0m\u001b[0;34m(\u001b[0m\u001b[0mnet\u001b[0m\u001b[0;34m.\u001b[0m\u001b[0mparameters\u001b[0m\u001b[0;34m(\u001b[0m\u001b[0;34m)\u001b[0m\u001b[0;34m,\u001b[0m \u001b[0mlr\u001b[0m\u001b[0;34m=\u001b[0m\u001b[0;36m0.001\u001b[0m\u001b[0;34m,\u001b[0m \u001b[0mmomentum\u001b[0m\u001b[0;34m=\u001b[0m\u001b[0;36m0.9\u001b[0m\u001b[0;34m)\u001b[0m\u001b[0;34m\u001b[0m\u001b[0;34m\u001b[0m\u001b[0m\n\u001b[1;32m      3\u001b[0m \u001b[0mloss_history\u001b[0m \u001b[0;34m=\u001b[0m \u001b[0;34m[\u001b[0m\u001b[0;34m]\u001b[0m\u001b[0;34m\u001b[0m\u001b[0;34m\u001b[0m\u001b[0m\n\u001b[1;32m      4\u001b[0m \u001b[0;32mfor\u001b[0m \u001b[0mepoch\u001b[0m \u001b[0;32min\u001b[0m \u001b[0mrange\u001b[0m\u001b[0;34m(\u001b[0m\u001b[0;36m200\u001b[0m\u001b[0;34m)\u001b[0m\u001b[0;34m:\u001b[0m\u001b[0;34m\u001b[0m\u001b[0;34m\u001b[0m\u001b[0m\n\u001b[1;32m      5\u001b[0m     \u001b[0;32mif\u001b[0m \u001b[0mepoch\u001b[0m \u001b[0;34m==\u001b[0m \u001b[0;36m100\u001b[0m\u001b[0;34m:\u001b[0m\u001b[0;34m\u001b[0m\u001b[0;34m\u001b[0m\u001b[0m\n",
      "\u001b[0;31mNameError\u001b[0m: name 'MyNeuralNet' is not defined"
     ]
    }
   ],
   "metadata": {}
  },
  {
   "cell_type": "code",
   "execution_count": 94,
   "source": [
    "plt.plot(loss_history)\n",
    "print(loss_history[-1])"
   ],
   "outputs": [
    {
     "output_type": "stream",
     "name": "stdout",
     "text": [
      "0.009711265563964844\n"
     ]
    },
    {
     "output_type": "display_data",
     "data": {
      "image/png": "[encoded data removed]",
      "text/plain": [
       "<Figure size 432x288 with 1 Axes>"
      ]
     },
     "metadata": {
      "needs_background": "light"
     }
    }
   ],
   "metadata": {}
  },
  {
   "cell_type": "code",
   "execution_count": 86,
   "source": [
    "h1 = net.input_to_hidden(X)\n",
    "a1 = net.hidden_layer_activation(h1)"
   ],
   "outputs": [],
   "metadata": {}
  },
  {
   "cell_type": "code",
   "execution_count": 87,
   "source": [
    "a1"
   ],
   "outputs": [
    {
     "output_type": "execute_result",
     "data": {
      "text/plain": [
       "tensor([[ 0.0000,  2.3297,  0.0000,  0.0000,  0.2540,  0.0000,  0.0000,  0.0000],\n",
       "        [ 0.0000,  5.6882,  0.0000,  0.0000,  0.0000,  0.0000,  0.0000,  0.0000],\n",
       "        [ 0.0000,  9.0466,  0.0000,  0.0000,  0.0000,  0.0000,  0.0000,  0.0000],\n",
       "        [ 0.0000, 12.4050,  0.0000,  0.0000,  0.0000,  0.0000,  0.0000,  0.0000]],\n",
       "       grad_fn=<ReluBackward0>)"
      ]
     },
     "metadata": {},
     "execution_count": 87
    }
   ],
   "metadata": {}
  },
  {
   "cell_type": "code",
   "execution_count": 96,
   "source": [
    "print(net)"
   ],
   "outputs": [
    {
     "output_type": "stream",
     "name": "stdout",
     "text": [
      "MyNeuralNet(\n",
      "  (input_to_hidden): Linear(in_features=2, out_features=8, bias=True)\n",
      "  (hidden_layer_activation): ReLU()\n",
      "  (hidden_2_output): Linear(in_features=8, out_features=1, bias=True)\n",
      ")\n"
     ]
    }
   ],
   "metadata": {}
  },
  {
   "cell_type": "code",
   "execution_count": 97,
   "source": [],
   "outputs": [],
   "metadata": {}
  },
  {
   "cell_type": "code",
   "execution_count": 98,
   "source": [
    "print(model)"
   ],
   "outputs": [
    {
     "output_type": "stream",
     "name": "stdout",
     "text": [
      "Sequential(\n",
      "  (0): Linear(in_features=2, out_features=8, bias=True)\n",
      "  (1): ReLU()\n",
      "  (2): Linear(in_features=8, out_features=1, bias=True)\n",
      ")\n"
     ]
    }
   ],
   "metadata": {}
  },
  {
   "cell_type": "code",
   "execution_count": 21,
   "source": [
    "from torch import nn\n",
    "from torch.optim import SGD\n",
    "lossfn = torch.nn.MSELoss()\n",
    "net =  nn.Sequential(\n",
    "    nn.Linear(2, 8),\n",
    "    nn.ReLU(),\n",
    "    nn.Linear(8, 1)\n",
    ")\n",
    "opt = torch.optim.Adam(net.parameters(), lr=0.001)\n",
    "loss_history = []\n",
    "for epoch in range(300):\n",
    "    if epoch == 100:\n",
    "        opt = SGD(net.parameters(), lr=0.0001)\n",
    "    if epoch == 200:\n",
    "        opt = SGD(net.parameters(), lr=0.00001)\n",
    "    print('.',end='')\n",
    "    for x, y in dl:\n",
    "        opt.zero_grad()\n",
    "        loss = lossfn(net(x), y)\n",
    "        loss.backward()\n",
    "        opt.step()\n",
    "        loss_history.append(loss.item())"
   ],
   "outputs": [
    {
     "output_type": "stream",
     "name": "stdout",
     "text": [
      "............................................................................................................................................................................................................................................................................................................"
     ]
    }
   ],
   "metadata": {}
  },
  {
   "cell_type": "code",
   "execution_count": 22,
   "source": [
    "plt.plot(loss_history)\n",
    "print(loss_history[-1])"
   ],
   "outputs": [
    {
     "output_type": "stream",
     "name": "stdout",
     "text": [
      "0.051730215549468994\n"
     ]
    },
    {
     "output_type": "display_data",
     "data": {
      "image/png": "[encoded data removed]",
      "text/plain": [
       "<Figure size 432x288 with 1 Axes>"
      ]
     },
     "metadata": {
      "needs_background": "light"
     }
    }
   ],
   "metadata": {}
  },
  {
   "cell_type": "code",
   "execution_count": 23,
   "source": [
    "from torchsummary import summary"
   ],
   "outputs": [],
   "metadata": {}
  },
  {
   "cell_type": "code",
   "execution_count": 26,
   "source": [
    "print(summary(net, ))"
   ],
   "outputs": [
    {
     "output_type": "stream",
     "name": "stdout",
     "text": [
      "=================================================================\n",
      "Layer (type:depth-idx)                   Param #\n",
      "=================================================================\n",
      "├─Linear: 1-1                            24\n",
      "├─ReLU: 1-2                              --\n",
      "├─Linear: 1-3                            9\n",
      "=================================================================\n",
      "Total params: 33\n",
      "Trainable params: 33\n",
      "Non-trainable params: 0\n",
      "=================================================================\n",
      "=================================================================\n",
      "Layer (type:depth-idx)                   Param #\n",
      "=================================================================\n",
      "├─Linear: 1-1                            24\n",
      "├─ReLU: 1-2                              --\n",
      "├─Linear: 1-3                            9\n",
      "=================================================================\n",
      "Total params: 33\n",
      "Trainable params: 33\n",
      "Non-trainable params: 0\n",
      "=================================================================\n"
     ]
    }
   ],
   "metadata": {}
  },
  {
   "cell_type": "code",
   "execution_count": 133,
   "source": [
    "validation = torch.tensor([[800,900], [1100,1000], [-111.5, -222.7]])"
   ],
   "outputs": [],
   "metadata": {}
  },
  {
   "cell_type": "code",
   "execution_count": 134,
   "source": [
    "yp = net(validation)"
   ],
   "outputs": [],
   "metadata": {}
  },
  {
   "cell_type": "code",
   "execution_count": 145,
   "source": [
    "net.train()"
   ],
   "outputs": [
    {
     "output_type": "execute_result",
     "data": {
      "text/plain": [
       "Sequential(\n",
       "  (0): Linear(in_features=2, out_features=8, bias=True)\n",
       "  (1): ReLU()\n",
       "  (2): Linear(in_features=8, out_features=1, bias=True)\n",
       ")"
      ]
     },
     "metadata": {},
     "execution_count": 145
    }
   ],
   "metadata": {}
  },
  {
   "cell_type": "code",
   "execution_count": 180,
   "source": [
    "import pickle\n",
    "def load_cifar_batch(fname):\n",
    "    with open(fname, 'rb') as ins:\n",
    "        raw = pickle.load(ins, encoding='bytes')\n",
    "        return raw"
   ],
   "outputs": [],
   "metadata": {}
  },
  {
   "cell_type": "markdown",
   "source": [],
   "metadata": {}
  },
  {
   "cell_type": "code",
   "execution_count": 181,
   "source": [
    "data = load_cifar_batch('data/cifar-10-batches-py/data_batch_1')"
   ],
   "outputs": [],
   "metadata": {}
  },
  {
   "cell_type": "markdown",
   "source": [],
   "metadata": {}
  },
  {
   "cell_type": "code",
   "execution_count": 158,
   "source": [
    "imgs = data[b'data'].reshape((10000, 3, 32, 32))"
   ],
   "outputs": [],
   "metadata": {}
  },
  {
   "cell_type": "code",
   "execution_count": 161,
   "source": [
    "imgs = torch.tensor(imgs)\n",
    "imgs"
   ],
   "outputs": [
    {
     "output_type": "execute_result",
     "data": {
      "text/plain": [
       "tensor([[[[ 59,  43,  50,  ..., 158, 152, 148],\n",
       "          [ 16,   0,  18,  ..., 123, 119, 122],\n",
       "          [ 25,  16,  49,  ..., 118, 120, 109],\n",
       "          ...,\n",
       "          [208, 201, 198,  ..., 160,  56,  53],\n",
       "          [180, 173, 186,  ..., 184,  97,  83],\n",
       "          [177, 168, 179,  ..., 216, 151, 123]],\n",
       "\n",
       "         [[ 62,  46,  48,  ..., 132, 125, 124],\n",
       "          [ 20,   0,   8,  ...,  88,  83,  87],\n",
       "          [ 24,   7,  27,  ...,  84,  84,  73],\n",
       "          ...,\n",
       "          [170, 153, 161,  ..., 133,  31,  34],\n",
       "          [139, 123, 144,  ..., 148,  62,  53],\n",
       "          [144, 129, 142,  ..., 184, 118,  92]],\n",
       "\n",
       "         [[ 63,  45,  43,  ..., 108, 102, 103],\n",
       "          [ 20,   0,   0,  ...,  55,  50,  57],\n",
       "          [ 21,   0,   8,  ...,  50,  50,  42],\n",
       "          ...,\n",
       "          [ 96,  34,  26,  ...,  70,   7,  20],\n",
       "          [ 96,  42,  30,  ...,  94,  34,  34],\n",
       "          [116,  94,  87,  ..., 140,  84,  72]]],\n",
       "\n",
       "\n",
       "        [[[154, 126, 105,  ...,  91,  87,  79],\n",
       "          [140, 145, 125,  ...,  96,  77,  71],\n",
       "          [140, 139, 115,  ...,  79,  68,  67],\n",
       "          ...,\n",
       "          [175, 156, 154,  ...,  42,  61,  93],\n",
       "          [165, 156, 159,  ..., 103, 123, 131],\n",
       "          [163, 158, 163,  ..., 143, 143, 143]],\n",
       "\n",
       "         [[177, 137, 104,  ...,  95,  90,  81],\n",
       "          [160, 153, 125,  ...,  99,  80,  73],\n",
       "          [155, 146, 115,  ...,  82,  70,  69],\n",
       "          ...,\n",
       "          [167, 154, 160,  ...,  34,  53,  83],\n",
       "          [154, 152, 161,  ...,  93, 114, 121],\n",
       "          [148, 148, 156,  ..., 133, 134, 133]],\n",
       "\n",
       "         [[187, 136,  95,  ...,  71,  71,  70],\n",
       "          [169, 154, 118,  ...,  78,  62,  61],\n",
       "          [164, 149, 112,  ...,  64,  55,  55],\n",
       "          ...,\n",
       "          [166, 160, 170,  ...,  36,  57,  91],\n",
       "          [128, 130, 142,  ...,  96, 120, 131],\n",
       "          [120, 122, 133,  ..., 139, 142, 144]]],\n",
       "\n",
       "\n",
       "        [[[255, 253, 253,  ..., 253, 253, 253],\n",
       "          [255, 255, 255,  ..., 255, 255, 255],\n",
       "          [255, 254, 254,  ..., 254, 254, 254],\n",
       "          ...,\n",
       "          [113, 111, 105,  ...,  72,  72,  72],\n",
       "          [111, 104,  99,  ...,  68,  70,  78],\n",
       "          [106,  99,  95,  ...,  78,  79,  80]],\n",
       "\n",
       "         [[255, 253, 253,  ..., 253, 253, 253],\n",
       "          [255, 255, 255,  ..., 255, 255, 255],\n",
       "          [255, 254, 254,  ..., 254, 254, 254],\n",
       "          ...,\n",
       "          [120, 118, 112,  ...,  81,  80,  80],\n",
       "          [118, 111, 106,  ...,  75,  76,  84],\n",
       "          [113, 106, 102,  ...,  85,  85,  86]],\n",
       "\n",
       "         [[255, 253, 253,  ..., 253, 253, 253],\n",
       "          [255, 255, 255,  ..., 255, 255, 255],\n",
       "          [255, 254, 254,  ..., 254, 254, 254],\n",
       "          ...,\n",
       "          [112, 111, 106,  ...,  80,  79,  79],\n",
       "          [110, 104,  98,  ...,  73,  75,  82],\n",
       "          [105,  98,  94,  ...,  83,  83,  84]]],\n",
       "\n",
       "\n",
       "        ...,\n",
       "\n",
       "\n",
       "        [[[ 71,  60,  74,  ..., 251, 255, 191],\n",
       "          [ 89,  80,  67,  ..., 250, 255, 181],\n",
       "          [ 74,  69,  68,  ..., 246, 254, 193],\n",
       "          ...,\n",
       "          [ 84,  80,  80,  ...,  41,  55,  61],\n",
       "          [ 67,  65,  62,  ...,  63,  68,  71],\n",
       "          [ 66,  66,  65,  ...,  80,  83,  84]],\n",
       "\n",
       "         [[ 77,  69,  83,  ..., 251, 255, 192],\n",
       "          [ 96,  89,  77,  ..., 248, 254, 181],\n",
       "          [ 80,  77,  77,  ..., 245, 254, 195],\n",
       "          ...,\n",
       "          [ 85,  81,  80,  ...,  43,  55,  62],\n",
       "          [ 66,  64,  61,  ...,  63,  66,  70],\n",
       "          [ 43,  44,  42,  ...,  73,  75,  77]],\n",
       "\n",
       "         [[ 44,  35,  56,  ..., 253, 255, 186],\n",
       "          [ 62,  58,  51,  ..., 249, 254, 170],\n",
       "          [ 46,  50,  53,  ..., 248, 254, 183],\n",
       "          ...,\n",
       "          [ 84,  81,  80,  ...,  48,  59,  63],\n",
       "          [ 67,  64,  61,  ...,  65,  67,  67],\n",
       "          [ 28,  28,  27,  ...,  68,  69,  68]]],\n",
       "\n",
       "\n",
       "        [[[250, 254, 211,  ..., 188, 255, 255],\n",
       "          [250, 255, 213,  ..., 189, 255, 255],\n",
       "          [250, 255, 213,  ..., 186, 255, 255],\n",
       "          ...,\n",
       "          [255, 254, 213,  ..., 211, 255, 255],\n",
       "          [255, 252, 217,  ..., 214, 255, 255],\n",
       "          [255, 253, 218,  ..., 214, 255, 255]],\n",
       "\n",
       "         [[255, 253, 224,  ..., 195, 255, 254],\n",
       "          [255, 254, 225,  ..., 198, 255, 254],\n",
       "          [255, 254, 226,  ..., 198, 255, 254],\n",
       "          ...,\n",
       "          [254, 254, 224,  ..., 211, 255, 254],\n",
       "          [254, 253, 225,  ..., 213, 255, 254],\n",
       "          [254, 253, 221,  ..., 212, 255, 254]],\n",
       "\n",
       "         [[255, 254, 220,  ..., 193, 255, 255],\n",
       "          [255, 255, 222,  ..., 195, 255, 255],\n",
       "          [255, 255, 222,  ..., 194, 255, 255],\n",
       "          ...,\n",
       "          [255, 255, 221,  ..., 215, 255, 254],\n",
       "          [255, 253, 222,  ..., 216, 255, 254],\n",
       "          [255, 253, 220,  ..., 215, 255, 254]]],\n",
       "\n",
       "\n",
       "        [[[ 62,  61,  60,  ...,  64,  82,  62],\n",
       "          [ 62,  63,  61,  ...,  77, 114,  64],\n",
       "          [ 67,  78, 115,  ..., 100, 119,  63],\n",
       "          ...,\n",
       "          [161, 159, 159,  ..., 152, 157, 156],\n",
       "          [163, 161, 162,  ..., 162, 161, 161],\n",
       "          [169, 167, 167,  ..., 167, 167, 167]],\n",
       "\n",
       "         [[ 55,  55,  55,  ...,  58,  75,  55],\n",
       "          [ 56,  52,  48,  ...,  69, 107,  57],\n",
       "          [ 59,  62,  93,  ...,  92, 111,  56],\n",
       "          ...,\n",
       "          [192, 190, 190,  ..., 167, 190, 192],\n",
       "          [195, 192, 193,  ..., 191, 193, 193],\n",
       "          [201, 198, 198,  ..., 198, 198, 198]],\n",
       "\n",
       "         [[  7,   7,   6,  ...,  10,  28,   9],\n",
       "          [  7,   8,   6,  ...,  28,  65,  12],\n",
       "          [ 15,  28,  66,  ...,  58,  74,  12],\n",
       "          ...,\n",
       "          [125, 123, 123,  ..., 123, 128, 123],\n",
       "          [127, 125, 126,  ..., 128, 127, 126],\n",
       "          [132, 130, 131,  ..., 130, 130, 131]]]], dtype=torch.uint8)"
      ]
     },
     "metadata": {},
     "execution_count": 161
    }
   ],
   "metadata": {}
  },
  {
   "cell_type": "code",
   "execution_count": 174,
   "source": [
    "i = 101\n",
    "plt.imshow(imgs[i].permute(1,2,0))\n",
    "print(label_names[b'label_names'][data[b'labels'][i]])"
   ],
   "outputs": [
    {
     "output_type": "stream",
     "name": "stdout",
     "text": [
      "b'cat'\n"
     ]
    },
    {
     "output_type": "display_data",
     "data": {
      "image/png": "[encoded data removed]",
      "text/plain": [
       "<Figure size 432x288 with 1 Axes>"
      ]
     },
     "metadata": {
      "needs_background": "light"
     }
    }
   ],
   "metadata": {}
  },
  {
   "cell_type": "code",
   "execution_count": 169,
   "source": [
    "print(data.keys())"
   ],
   "outputs": [
    {
     "output_type": "stream",
     "name": "stdout",
     "text": [
      "dict_keys([b'batch_label', b'labels', b'data', b'filenames'])\n"
     ]
    }
   ],
   "metadata": {}
  },
  {
   "cell_type": "code",
   "execution_count": 182,
   "source": [
    "def load_label_names(fname):\n",
    "    with open(fname, 'rb') as inf:\n",
    "        label_names = pickle.load(inf, encoding='bytes')\n",
    "        return label_names"
   ],
   "outputs": [],
   "metadata": {}
  },
  {
   "cell_type": "code",
   "execution_count": 183,
   "source": [
    "label_names = load_label_names('data/cifar-10-batches-py/batches.meta')"
   ],
   "outputs": [],
   "metadata": {}
  },
  {
   "cell_type": "code",
   "execution_count": 191,
   "source": [
    "print(data.keys())"
   ],
   "outputs": [
    {
     "output_type": "stream",
     "name": "stdout",
     "text": [
      "dict_keys([b'batch_label', b'labels', b'data', b'filenames'])\n"
     ]
    }
   ],
   "metadata": {}
  },
  {
   "cell_type": "code",
   "execution_count": 197,
   "source": [
    "labels = torch.tensor(data[b'labels']).unsqueeze(1)\n"
   ],
   "outputs": [],
   "metadata": {}
  },
  {
   "cell_type": "code",
   "execution_count": 201,
   "source": [
    "imgs = torch.tensor(data[b'data'] / 255).float().reshape((-1, 3, 32, 32))"
   ],
   "outputs": [],
   "metadata": {}
  },
  {
   "cell_type": "code",
   "execution_count": 204,
   "source": [
    "imgs.shape\n"
   ],
   "outputs": [
    {
     "output_type": "execute_result",
     "data": {
      "text/plain": [
       "torch.Size([10000, 3, 32, 32])"
      ]
     },
     "metadata": {},
     "execution_count": 204
    }
   ],
   "metadata": {}
  },
  {
   "cell_type": "code",
   "execution_count": 205,
   "source": [
    "imgs"
   ],
   "outputs": [
    {
     "output_type": "execute_result",
     "data": {
      "text/plain": [
       "tensor([[[[0.2314, 0.1686, 0.1961,  ..., 0.6196, 0.5961, 0.5804],\n",
       "          [0.0627, 0.0000, 0.0706,  ..., 0.4824, 0.4667, 0.4784],\n",
       "          [0.0980, 0.0627, 0.1922,  ..., 0.4627, 0.4706, 0.4275],\n",
       "          ...,\n",
       "          [0.8157, 0.7882, 0.7765,  ..., 0.6275, 0.2196, 0.2078],\n",
       "          [0.7059, 0.6784, 0.7294,  ..., 0.7216, 0.3804, 0.3255],\n",
       "          [0.6941, 0.6588, 0.7020,  ..., 0.8471, 0.5922, 0.4824]],\n",
       "\n",
       "         [[0.2431, 0.1804, 0.1882,  ..., 0.5176, 0.4902, 0.4863],\n",
       "          [0.0784, 0.0000, 0.0314,  ..., 0.3451, 0.3255, 0.3412],\n",
       "          [0.0941, 0.0275, 0.1059,  ..., 0.3294, 0.3294, 0.2863],\n",
       "          ...,\n",
       "          [0.6667, 0.6000, 0.6314,  ..., 0.5216, 0.1216, 0.1333],\n",
       "          [0.5451, 0.4824, 0.5647,  ..., 0.5804, 0.2431, 0.2078],\n",
       "          [0.5647, 0.5059, 0.5569,  ..., 0.7216, 0.4627, 0.3608]],\n",
       "\n",
       "         [[0.2471, 0.1765, 0.1686,  ..., 0.4235, 0.4000, 0.4039],\n",
       "          [0.0784, 0.0000, 0.0000,  ..., 0.2157, 0.1961, 0.2235],\n",
       "          [0.0824, 0.0000, 0.0314,  ..., 0.1961, 0.1961, 0.1647],\n",
       "          ...,\n",
       "          [0.3765, 0.1333, 0.1020,  ..., 0.2745, 0.0275, 0.0784],\n",
       "          [0.3765, 0.1647, 0.1176,  ..., 0.3686, 0.1333, 0.1333],\n",
       "          [0.4549, 0.3686, 0.3412,  ..., 0.5490, 0.3294, 0.2824]]],\n",
       "\n",
       "\n",
       "        [[[0.6039, 0.4941, 0.4118,  ..., 0.3569, 0.3412, 0.3098],\n",
       "          [0.5490, 0.5686, 0.4902,  ..., 0.3765, 0.3020, 0.2784],\n",
       "          [0.5490, 0.5451, 0.4510,  ..., 0.3098, 0.2667, 0.2627],\n",
       "          ...,\n",
       "          [0.6863, 0.6118, 0.6039,  ..., 0.1647, 0.2392, 0.3647],\n",
       "          [0.6471, 0.6118, 0.6235,  ..., 0.4039, 0.4824, 0.5137],\n",
       "          [0.6392, 0.6196, 0.6392,  ..., 0.5608, 0.5608, 0.5608]],\n",
       "\n",
       "         [[0.6941, 0.5373, 0.4078,  ..., 0.3725, 0.3529, 0.3176],\n",
       "          [0.6275, 0.6000, 0.4902,  ..., 0.3882, 0.3137, 0.2863],\n",
       "          [0.6078, 0.5725, 0.4510,  ..., 0.3216, 0.2745, 0.2706],\n",
       "          ...,\n",
       "          [0.6549, 0.6039, 0.6275,  ..., 0.1333, 0.2078, 0.3255],\n",
       "          [0.6039, 0.5961, 0.6314,  ..., 0.3647, 0.4471, 0.4745],\n",
       "          [0.5804, 0.5804, 0.6118,  ..., 0.5216, 0.5255, 0.5216]],\n",
       "\n",
       "         [[0.7333, 0.5333, 0.3725,  ..., 0.2784, 0.2784, 0.2745],\n",
       "          [0.6627, 0.6039, 0.4627,  ..., 0.3059, 0.2431, 0.2392],\n",
       "          [0.6431, 0.5843, 0.4392,  ..., 0.2510, 0.2157, 0.2157],\n",
       "          ...,\n",
       "          [0.6510, 0.6275, 0.6667,  ..., 0.1412, 0.2235, 0.3569],\n",
       "          [0.5020, 0.5098, 0.5569,  ..., 0.3765, 0.4706, 0.5137],\n",
       "          [0.4706, 0.4784, 0.5216,  ..., 0.5451, 0.5569, 0.5647]]],\n",
       "\n",
       "\n",
       "        [[[1.0000, 0.9922, 0.9922,  ..., 0.9922, 0.9922, 0.9922],\n",
       "          [1.0000, 1.0000, 1.0000,  ..., 1.0000, 1.0000, 1.0000],\n",
       "          [1.0000, 0.9961, 0.9961,  ..., 0.9961, 0.9961, 0.9961],\n",
       "          ...,\n",
       "          [0.4431, 0.4353, 0.4118,  ..., 0.2824, 0.2824, 0.2824],\n",
       "          [0.4353, 0.4078, 0.3882,  ..., 0.2667, 0.2745, 0.3059],\n",
       "          [0.4157, 0.3882, 0.3725,  ..., 0.3059, 0.3098, 0.3137]],\n",
       "\n",
       "         [[1.0000, 0.9922, 0.9922,  ..., 0.9922, 0.9922, 0.9922],\n",
       "          [1.0000, 1.0000, 1.0000,  ..., 1.0000, 1.0000, 1.0000],\n",
       "          [1.0000, 0.9961, 0.9961,  ..., 0.9961, 0.9961, 0.9961],\n",
       "          ...,\n",
       "          [0.4706, 0.4627, 0.4392,  ..., 0.3176, 0.3137, 0.3137],\n",
       "          [0.4627, 0.4353, 0.4157,  ..., 0.2941, 0.2980, 0.3294],\n",
       "          [0.4431, 0.4157, 0.4000,  ..., 0.3333, 0.3333, 0.3373]],\n",
       "\n",
       "         [[1.0000, 0.9922, 0.9922,  ..., 0.9922, 0.9922, 0.9922],\n",
       "          [1.0000, 1.0000, 1.0000,  ..., 1.0000, 1.0000, 1.0000],\n",
       "          [1.0000, 0.9961, 0.9961,  ..., 0.9961, 0.9961, 0.9961],\n",
       "          ...,\n",
       "          [0.4392, 0.4353, 0.4157,  ..., 0.3137, 0.3098, 0.3098],\n",
       "          [0.4314, 0.4078, 0.3843,  ..., 0.2863, 0.2941, 0.3216],\n",
       "          [0.4118, 0.3843, 0.3686,  ..., 0.3255, 0.3255, 0.3294]]],\n",
       "\n",
       "\n",
       "        ...,\n",
       "\n",
       "\n",
       "        [[[0.2784, 0.2353, 0.2902,  ..., 0.9843, 1.0000, 0.7490],\n",
       "          [0.3490, 0.3137, 0.2627,  ..., 0.9804, 1.0000, 0.7098],\n",
       "          [0.2902, 0.2706, 0.2667,  ..., 0.9647, 0.9961, 0.7569],\n",
       "          ...,\n",
       "          [0.3294, 0.3137, 0.3137,  ..., 0.1608, 0.2157, 0.2392],\n",
       "          [0.2627, 0.2549, 0.2431,  ..., 0.2471, 0.2667, 0.2784],\n",
       "          [0.2588, 0.2588, 0.2549,  ..., 0.3137, 0.3255, 0.3294]],\n",
       "\n",
       "         [[0.3020, 0.2706, 0.3255,  ..., 0.9843, 1.0000, 0.7529],\n",
       "          [0.3765, 0.3490, 0.3020,  ..., 0.9725, 0.9961, 0.7098],\n",
       "          [0.3137, 0.3020, 0.3020,  ..., 0.9608, 0.9961, 0.7647],\n",
       "          ...,\n",
       "          [0.3333, 0.3176, 0.3137,  ..., 0.1686, 0.2157, 0.2431],\n",
       "          [0.2588, 0.2510, 0.2392,  ..., 0.2471, 0.2588, 0.2745],\n",
       "          [0.1686, 0.1725, 0.1647,  ..., 0.2863, 0.2941, 0.3020]],\n",
       "\n",
       "         [[0.1725, 0.1373, 0.2196,  ..., 0.9922, 1.0000, 0.7294],\n",
       "          [0.2431, 0.2275, 0.2000,  ..., 0.9765, 0.9961, 0.6667],\n",
       "          [0.1804, 0.1961, 0.2078,  ..., 0.9725, 0.9961, 0.7176],\n",
       "          ...,\n",
       "          [0.3294, 0.3176, 0.3137,  ..., 0.1882, 0.2314, 0.2471],\n",
       "          [0.2627, 0.2510, 0.2392,  ..., 0.2549, 0.2627, 0.2627],\n",
       "          [0.1098, 0.1098, 0.1059,  ..., 0.2667, 0.2706, 0.2667]]],\n",
       "\n",
       "\n",
       "        [[[0.9804, 0.9961, 0.8275,  ..., 0.7373, 1.0000, 1.0000],\n",
       "          [0.9804, 1.0000, 0.8353,  ..., 0.7412, 1.0000, 1.0000],\n",
       "          [0.9804, 1.0000, 0.8353,  ..., 0.7294, 1.0000, 1.0000],\n",
       "          ...,\n",
       "          [1.0000, 0.9961, 0.8353,  ..., 0.8275, 1.0000, 1.0000],\n",
       "          [1.0000, 0.9882, 0.8510,  ..., 0.8392, 1.0000, 1.0000],\n",
       "          [1.0000, 0.9922, 0.8549,  ..., 0.8392, 1.0000, 1.0000]],\n",
       "\n",
       "         [[1.0000, 0.9922, 0.8784,  ..., 0.7647, 1.0000, 0.9961],\n",
       "          [1.0000, 0.9961, 0.8824,  ..., 0.7765, 1.0000, 0.9961],\n",
       "          [1.0000, 0.9961, 0.8863,  ..., 0.7765, 1.0000, 0.9961],\n",
       "          ...,\n",
       "          [0.9961, 0.9961, 0.8784,  ..., 0.8275, 1.0000, 0.9961],\n",
       "          [0.9961, 0.9922, 0.8824,  ..., 0.8353, 1.0000, 0.9961],\n",
       "          [0.9961, 0.9922, 0.8667,  ..., 0.8314, 1.0000, 0.9961]],\n",
       "\n",
       "         [[1.0000, 0.9961, 0.8627,  ..., 0.7569, 1.0000, 1.0000],\n",
       "          [1.0000, 1.0000, 0.8706,  ..., 0.7647, 1.0000, 1.0000],\n",
       "          [1.0000, 1.0000, 0.8706,  ..., 0.7608, 1.0000, 1.0000],\n",
       "          ...,\n",
       "          [1.0000, 1.0000, 0.8667,  ..., 0.8431, 1.0000, 0.9961],\n",
       "          [1.0000, 0.9922, 0.8706,  ..., 0.8471, 1.0000, 0.9961],\n",
       "          [1.0000, 0.9922, 0.8627,  ..., 0.8431, 1.0000, 0.9961]]],\n",
       "\n",
       "\n",
       "        [[[0.2431, 0.2392, 0.2353,  ..., 0.2510, 0.3216, 0.2431],\n",
       "          [0.2431, 0.2471, 0.2392,  ..., 0.3020, 0.4471, 0.2510],\n",
       "          [0.2627, 0.3059, 0.4510,  ..., 0.3922, 0.4667, 0.2471],\n",
       "          ...,\n",
       "          [0.6314, 0.6235, 0.6235,  ..., 0.5961, 0.6157, 0.6118],\n",
       "          [0.6392, 0.6314, 0.6353,  ..., 0.6353, 0.6314, 0.6314],\n",
       "          [0.6627, 0.6549, 0.6549,  ..., 0.6549, 0.6549, 0.6549]],\n",
       "\n",
       "         [[0.2157, 0.2157, 0.2157,  ..., 0.2275, 0.2941, 0.2157],\n",
       "          [0.2196, 0.2039, 0.1882,  ..., 0.2706, 0.4196, 0.2235],\n",
       "          [0.2314, 0.2431, 0.3647,  ..., 0.3608, 0.4353, 0.2196],\n",
       "          ...,\n",
       "          [0.7529, 0.7451, 0.7451,  ..., 0.6549, 0.7451, 0.7529],\n",
       "          [0.7647, 0.7529, 0.7569,  ..., 0.7490, 0.7569, 0.7569],\n",
       "          [0.7882, 0.7765, 0.7765,  ..., 0.7765, 0.7765, 0.7765]],\n",
       "\n",
       "         [[0.0275, 0.0275, 0.0235,  ..., 0.0392, 0.1098, 0.0353],\n",
       "          [0.0275, 0.0314, 0.0235,  ..., 0.1098, 0.2549, 0.0471],\n",
       "          [0.0588, 0.1098, 0.2588,  ..., 0.2275, 0.2902, 0.0471],\n",
       "          ...,\n",
       "          [0.4902, 0.4824, 0.4824,  ..., 0.4824, 0.5020, 0.4824],\n",
       "          [0.4980, 0.4902, 0.4941,  ..., 0.5020, 0.4980, 0.4941],\n",
       "          [0.5176, 0.5098, 0.5137,  ..., 0.5098, 0.5098, 0.5137]]]])"
      ]
     },
     "metadata": {},
     "execution_count": 205
    }
   ],
   "metadata": {}
  },
  {
   "cell_type": "code",
   "execution_count": 3,
   "source": [
    "import cifar"
   ],
   "outputs": [],
   "metadata": {}
  },
  {
   "cell_type": "code",
   "execution_count": 4,
   "source": [
    "data = cifar.CifarDataset('./data/cifar-10-batches-py')"
   ],
   "outputs": [],
   "metadata": {}
  },
  {
   "cell_type": "code",
   "execution_count": 6,
   "source": [
    "data.train_y[1]"
   ],
   "outputs": [
    {
     "output_type": "execute_result",
     "data": {
      "text/plain": [
       "tensor([0, 0, 0, 0, 0, 0, 0, 0, 0, 1])"
      ]
     },
     "metadata": {},
     "execution_count": 6
    }
   ],
   "metadata": {}
  },
  {
   "cell_type": "code",
   "execution_count": 9,
   "source": [
    "i = 201\n",
    "plt.imshow(data.test_x[i].permute(1,2,0))\n",
    "print(data.label_names[data.test_y[i].argmax()])"
   ],
   "outputs": [
    {
     "output_type": "stream",
     "name": "stdout",
     "text": [
      "automobile\n"
     ]
    },
    {
     "output_type": "display_data",
     "data": {
      "image/png": "[encoded data removed]",
      "text/plain": [
       "<Figure size 432x288 with 1 Axes>"
      ]
     },
     "metadata": {
      "needs_background": "light"
     }
    }
   ],
   "metadata": {}
  },
  {
   "cell_type": "code",
   "execution_count": 225,
   "source": [
    "\n",
    "data.test_y[1]"
   ],
   "outputs": [
    {
     "output_type": "execute_result",
     "data": {
      "text/plain": [
       "tensor([8])"
      ]
     },
     "metadata": {},
     "execution_count": 225
    }
   ],
   "metadata": {}
  },
  {
   "cell_type": "code",
   "execution_count": 229,
   "source": [
    "data.train_y[1]"
   ],
   "outputs": [
    {
     "output_type": "execute_result",
     "data": {
      "text/plain": [
       "tensor([9])"
      ]
     },
     "metadata": {},
     "execution_count": 229
    }
   ],
   "metadata": {}
  },
  {
   "cell_type": "code",
   "execution_count": 242,
   "source": [
    "data.train_y"
   ],
   "outputs": [
    {
     "output_type": "execute_result",
     "data": {
      "text/plain": [
       "tensor([[6],\n",
       "        [9],\n",
       "        [9],\n",
       "        ...,\n",
       "        [9],\n",
       "        [1],\n",
       "        [1]])"
      ]
     },
     "metadata": {},
     "execution_count": 242
    }
   ],
   "metadata": {}
  },
  {
   "cell_type": "code",
   "execution_count": 239,
   "source": [
    "a = torch.zeros((50000, 10))\n",
    "a[:, data.train_y] = 1"
   ],
   "outputs": [],
   "metadata": {}
  },
  {
   "cell_type": "code",
   "execution_count": 240,
   "source": [
    "a.shape"
   ],
   "outputs": [
    {
     "output_type": "execute_result",
     "data": {
      "text/plain": [
       "torch.Size([50000, 10])"
      ]
     },
     "metadata": {},
     "execution_count": 240
    }
   ],
   "metadata": {}
  },
  {
   "cell_type": "code",
   "execution_count": 241,
   "source": [
    "a"
   ],
   "outputs": [
    {
     "output_type": "execute_result",
     "data": {
      "text/plain": [
       "tensor([[1., 1., 1.,  ..., 1., 1., 1.],\n",
       "        [1., 1., 1.,  ..., 1., 1., 1.],\n",
       "        [1., 1., 1.,  ..., 1., 1., 1.],\n",
       "        ...,\n",
       "        [1., 1., 1.,  ..., 1., 1., 1.],\n",
       "        [1., 1., 1.,  ..., 1., 1., 1.],\n",
       "        [1., 1., 1.,  ..., 1., 1., 1.]])"
      ]
     },
     "metadata": {},
     "execution_count": 241
    }
   ],
   "metadata": {}
  },
  {
   "cell_type": "code",
   "execution_count": 29,
   "source": [
    "net(torch.tensor([[11.,12.]]))"
   ],
   "outputs": [
    {
     "output_type": "execute_result",
     "data": {
      "text/plain": [
       "tensor([[22.5275]], grad_fn=<AddmmBackward>)"
      ]
     },
     "metadata": {},
     "execution_count": 29
    }
   ],
   "metadata": {}
  },
  {
   "cell_type": "code",
   "execution_count": 30,
   "source": [
    "net.state_dict()"
   ],
   "outputs": [
    {
     "output_type": "execute_result",
     "data": {
      "text/plain": [
       "OrderedDict([('0.weight',\n",
       "              tensor([[ 0.0141,  0.6421],\n",
       "                      [-0.7316,  0.0668],\n",
       "                      [ 0.5830,  0.2046],\n",
       "                      [-0.2611, -0.4389],\n",
       "                      [-0.5675, -0.1416],\n",
       "                      [ 0.2320,  0.2408],\n",
       "                      [ 0.9132,  0.9189],\n",
       "                      [ 0.5661,  0.8719]])),\n",
       "             ('0.bias',\n",
       "              tensor([-0.3700,  0.5833,  0.5175,  0.0419, -0.0179,  0.4975,  0.8069, -0.2632])),\n",
       "             ('2.weight',\n",
       "              tensor([[ 0.3720, -0.1333,  0.0484,  0.0632, -0.1121,  0.4235,  0.4809,  0.3874]])),\n",
       "             ('2.bias', tensor([-0.1137]))])"
      ]
     },
     "metadata": {},
     "execution_count": 30
    }
   ],
   "metadata": {}
  },
  {
   "cell_type": "code",
   "execution_count": 36,
   "source": [
    "torch.save(net.to('cpu').state_dict(), 'testm.pth')"
   ],
   "outputs": [],
   "metadata": {}
  },
  {
   "cell_type": "code",
   "execution_count": 42,
   "source": [
    "net2 = nn.Sequential(\n",
    "    nn.Linear(2, 8),\n",
    "    nn.ReLU(),\n",
    "    nn.Linear(8,1),\n",
    "    nn.Linear(1,1)\n",
    ")"
   ],
   "outputs": [],
   "metadata": {}
  },
  {
   "cell_type": "code",
   "execution_count": 38,
   "source": [
    "state_dict = torch.load('testm.pth')"
   ],
   "outputs": [],
   "metadata": {}
  },
  {
   "cell_type": "code",
   "execution_count": 44,
   "source": [
    "state_dict.setdefault(1.0)"
   ],
   "outputs": [],
   "metadata": {}
  },
  {
   "cell_type": "code",
   "execution_count": 45,
   "source": [
    "net2.load_state_dict(state_dict)"
   ],
   "outputs": [
    {
     "output_type": "error",
     "ename": "AttributeError",
     "evalue": "'float' object has no attribute 'startswith'",
     "traceback": [
      "\u001b[0;31m---------------------------------------------------------------------------\u001b[0m",
      "\u001b[0;31mAttributeError\u001b[0m                            Traceback (most recent call last)",
      "\u001b[0;32m<ipython-input-45-f6e74b810367>\u001b[0m in \u001b[0;36m<module>\u001b[0;34m\u001b[0m\n\u001b[0;32m----> 1\u001b[0;31m \u001b[0mnet2\u001b[0m\u001b[0;34m.\u001b[0m\u001b[0mload_state_dict\u001b[0m\u001b[0;34m(\u001b[0m\u001b[0mstate_dict\u001b[0m\u001b[0;34m)\u001b[0m\u001b[0;34m\u001b[0m\u001b[0;34m\u001b[0m\u001b[0m\n\u001b[0m",
      "\u001b[0;32m~/opt/anaconda3/lib/python3.7/site-packages/torch/nn/modules/module.py\u001b[0m in \u001b[0;36mload_state_dict\u001b[0;34m(self, state_dict, strict)\u001b[0m\n\u001b[1;32m   1035\u001b[0m                     \u001b[0mload\u001b[0m\u001b[0;34m(\u001b[0m\u001b[0mchild\u001b[0m\u001b[0;34m,\u001b[0m \u001b[0mprefix\u001b[0m \u001b[0;34m+\u001b[0m \u001b[0mname\u001b[0m \u001b[0;34m+\u001b[0m \u001b[0;34m'.'\u001b[0m\u001b[0;34m)\u001b[0m\u001b[0;34m\u001b[0m\u001b[0;34m\u001b[0m\u001b[0m\n\u001b[1;32m   1036\u001b[0m \u001b[0;34m\u001b[0m\u001b[0m\n\u001b[0;32m-> 1037\u001b[0;31m         \u001b[0mload\u001b[0m\u001b[0;34m(\u001b[0m\u001b[0mself\u001b[0m\u001b[0;34m)\u001b[0m\u001b[0;34m\u001b[0m\u001b[0;34m\u001b[0m\u001b[0m\n\u001b[0m\u001b[1;32m   1038\u001b[0m         \u001b[0mload\u001b[0m \u001b[0;34m=\u001b[0m \u001b[0;32mNone\u001b[0m  \u001b[0;31m# break load->load reference cycle\u001b[0m\u001b[0;34m\u001b[0m\u001b[0;34m\u001b[0m\u001b[0m\n\u001b[1;32m   1039\u001b[0m \u001b[0;34m\u001b[0m\u001b[0m\n",
      "\u001b[0;32m~/opt/anaconda3/lib/python3.7/site-packages/torch/nn/modules/module.py\u001b[0m in \u001b[0;36mload\u001b[0;34m(module, prefix)\u001b[0m\n\u001b[1;32m   1030\u001b[0m             \u001b[0mlocal_metadata\u001b[0m \u001b[0;34m=\u001b[0m \u001b[0;34m{\u001b[0m\u001b[0;34m}\u001b[0m \u001b[0;32mif\u001b[0m \u001b[0mmetadata\u001b[0m \u001b[0;32mis\u001b[0m \u001b[0;32mNone\u001b[0m \u001b[0;32melse\u001b[0m \u001b[0mmetadata\u001b[0m\u001b[0;34m.\u001b[0m\u001b[0mget\u001b[0m\u001b[0;34m(\u001b[0m\u001b[0mprefix\u001b[0m\u001b[0;34m[\u001b[0m\u001b[0;34m:\u001b[0m\u001b[0;34m-\u001b[0m\u001b[0;36m1\u001b[0m\u001b[0;34m]\u001b[0m\u001b[0;34m,\u001b[0m \u001b[0;34m{\u001b[0m\u001b[0;34m}\u001b[0m\u001b[0;34m)\u001b[0m\u001b[0;34m\u001b[0m\u001b[0;34m\u001b[0m\u001b[0m\n\u001b[1;32m   1031\u001b[0m             module._load_from_state_dict(\n\u001b[0;32m-> 1032\u001b[0;31m                 state_dict, prefix, local_metadata, True, missing_keys, unexpected_keys, error_msgs)\n\u001b[0m\u001b[1;32m   1033\u001b[0m             \u001b[0;32mfor\u001b[0m \u001b[0mname\u001b[0m\u001b[0;34m,\u001b[0m \u001b[0mchild\u001b[0m \u001b[0;32min\u001b[0m \u001b[0mmodule\u001b[0m\u001b[0;34m.\u001b[0m\u001b[0m_modules\u001b[0m\u001b[0;34m.\u001b[0m\u001b[0mitems\u001b[0m\u001b[0;34m(\u001b[0m\u001b[0;34m)\u001b[0m\u001b[0;34m:\u001b[0m\u001b[0;34m\u001b[0m\u001b[0;34m\u001b[0m\u001b[0m\n\u001b[1;32m   1034\u001b[0m                 \u001b[0;32mif\u001b[0m \u001b[0mchild\u001b[0m \u001b[0;32mis\u001b[0m \u001b[0;32mnot\u001b[0m \u001b[0;32mNone\u001b[0m\u001b[0;34m:\u001b[0m\u001b[0;34m\u001b[0m\u001b[0;34m\u001b[0m\u001b[0m\n",
      "\u001b[0;32m~/opt/anaconda3/lib/python3.7/site-packages/torch/nn/modules/module.py\u001b[0m in \u001b[0;36m_load_from_state_dict\u001b[0;34m(self, state_dict, prefix, local_metadata, strict, missing_keys, unexpected_keys, error_msgs)\u001b[0m\n\u001b[1;32m    992\u001b[0m         \u001b[0;32mif\u001b[0m \u001b[0mstrict\u001b[0m\u001b[0;34m:\u001b[0m\u001b[0;34m\u001b[0m\u001b[0;34m\u001b[0m\u001b[0m\n\u001b[1;32m    993\u001b[0m             \u001b[0;32mfor\u001b[0m \u001b[0mkey\u001b[0m \u001b[0;32min\u001b[0m \u001b[0mstate_dict\u001b[0m\u001b[0;34m.\u001b[0m\u001b[0mkeys\u001b[0m\u001b[0;34m(\u001b[0m\u001b[0;34m)\u001b[0m\u001b[0;34m:\u001b[0m\u001b[0;34m\u001b[0m\u001b[0;34m\u001b[0m\u001b[0m\n\u001b[0;32m--> 994\u001b[0;31m                 \u001b[0;32mif\u001b[0m \u001b[0mkey\u001b[0m\u001b[0;34m.\u001b[0m\u001b[0mstartswith\u001b[0m\u001b[0;34m(\u001b[0m\u001b[0mprefix\u001b[0m\u001b[0;34m)\u001b[0m\u001b[0;34m:\u001b[0m\u001b[0;34m\u001b[0m\u001b[0;34m\u001b[0m\u001b[0m\n\u001b[0m\u001b[1;32m    995\u001b[0m                     \u001b[0minput_name\u001b[0m \u001b[0;34m=\u001b[0m \u001b[0mkey\u001b[0m\u001b[0;34m[\u001b[0m\u001b[0mlen\u001b[0m\u001b[0;34m(\u001b[0m\u001b[0mprefix\u001b[0m\u001b[0;34m)\u001b[0m\u001b[0;34m:\u001b[0m\u001b[0;34m]\u001b[0m\u001b[0;34m\u001b[0m\u001b[0;34m\u001b[0m\u001b[0m\n\u001b[1;32m    996\u001b[0m                     \u001b[0minput_name\u001b[0m \u001b[0;34m=\u001b[0m \u001b[0minput_name\u001b[0m\u001b[0;34m.\u001b[0m\u001b[0msplit\u001b[0m\u001b[0;34m(\u001b[0m\u001b[0;34m'.'\u001b[0m\u001b[0;34m,\u001b[0m \u001b[0;36m1\u001b[0m\u001b[0;34m)\u001b[0m\u001b[0;34m[\u001b[0m\u001b[0;36m0\u001b[0m\u001b[0;34m]\u001b[0m  \u001b[0;31m# get the name of param/buffer/child\u001b[0m\u001b[0;34m\u001b[0m\u001b[0;34m\u001b[0m\u001b[0m\n",
      "\u001b[0;31mAttributeError\u001b[0m: 'float' object has no attribute 'startswith'"
     ]
    }
   ],
   "metadata": {}
  },
  {
   "cell_type": "code",
   "execution_count": 41,
   "source": [
    "net2(torch.tensor([[11.,12.]]))"
   ],
   "outputs": [
    {
     "output_type": "execute_result",
     "data": {
      "text/plain": [
       "tensor([[22.5275]], grad_fn=<AddmmBackward>)"
      ]
     },
     "metadata": {},
     "execution_count": 41
    }
   ],
   "metadata": {}
  },
  {
   "cell_type": "code",
   "execution_count": null,
   "source": [
    "model = nn.Sequential(\n",
    "    nn.Conv2d(in_channels=3, out_channels=8, kernel_size=(3,3)),\n",
    "    nn.\n",
    ")"
   ],
   "outputs": [],
   "metadata": {}
  }
 ],
 "metadata": {
  "kernelspec": {
   "name": "python3",
   "display_name": "Python 3.7.6 64-bit ('base': conda)"
  },
  "language_info": {
   "codemirror_mode": {
    "name": "ipython",
    "version": 3
   },
   "file_extension": ".py",
   "mimetype": "text/x-python",
   "name": "python",
   "nbconvert_exporter": "python",
   "pygments_lexer": "ipython3",
   "version": "3.7.6"
  },
  "interpreter": {
   "hash": "77fcee449ca28e54d4bca079548729305929c99a0d72f3f200ce8ffedcb6de28"
  }
 },
 "nbformat": 4,
 "nbformat_minor": 2
}