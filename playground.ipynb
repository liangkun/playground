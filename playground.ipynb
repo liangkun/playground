{
 "cells": [
  {
   "cell_type": "code",
   "execution_count": 1,
   "metadata": {},
   "outputs": [],
   "source": [
    "import torch"
   ]
  },
  {
   "cell_type": "code",
   "execution_count": 2,
   "metadata": {},
   "outputs": [],
   "source": [
    "sentence = \"Life is short, I use python\"\n",
    "words = sentence.replace(\",\", \"\").split()\n",
    "dc = {s:i for i, s in enumerate(sorted(words))}"
   ]
  },
  {
   "cell_type": "code",
   "execution_count": 3,
   "metadata": {},
   "outputs": [
    {
     "data": {
      "text/plain": [
       "{'I': 0, 'Life': 1, 'is': 2, 'python': 3, 'short': 4, 'use': 5}"
      ]
     },
     "execution_count": 3,
     "metadata": {},
     "output_type": "execute_result"
    }
   ],
   "source": [
    "dc"
   ]
  },
  {
   "cell_type": "code",
   "execution_count": 4,
   "metadata": {},
   "outputs": [],
   "source": [
    "sentence_int = torch.tensor([dc[s] for s in words])"
   ]
  },
  {
   "cell_type": "code",
   "execution_count": 6,
   "metadata": {},
   "outputs": [
    {
     "name": "stdout",
     "output_type": "stream",
     "text": [
      "tensor([[-1.1238, -1.7340,  1.6322, -0.4995,  0.2005,  0.4727,  0.8412,  1.3800,\n",
      "         -0.3177,  1.2395, -0.0431,  1.4016, -1.8363,  0.0892,  1.6686, -1.3179],\n",
      "        [-0.4073,  1.8482, -0.6909,  0.7323,  0.9285,  0.0653,  1.0995,  0.9328,\n",
      "          2.1248, -0.1259, -0.4521, -0.2156, -1.4083, -0.0810, -0.3235,  0.8349],\n",
      "        [ 0.0268,  1.2377, -0.4855, -0.0599,  0.6189,  0.4217, -0.4814,  0.3235,\n",
      "         -0.0708,  0.5945, -0.7869,  0.0328,  1.6588,  0.4367, -1.1243, -0.6681],\n",
      "        [-1.6560,  0.5132,  1.4038,  1.1968,  0.6172,  2.1118, -0.4332,  1.4988,\n",
      "          0.9225,  0.1861, -0.5178, -0.7283,  0.8606, -0.2343, -0.5465,  0.7477],\n",
      "        [ 1.2872, -1.7410,  0.4641,  0.6824, -1.4923,  0.1322,  0.2920,  0.4966,\n",
      "          0.3366,  2.0307,  0.5177, -0.0708,  1.1789, -0.1211,  0.4566,  0.2115],\n",
      "        [ 0.5167,  0.3594,  1.8515, -0.5002, -1.0944, -0.2729, -1.3287,  1.2765,\n",
      "         -0.5272, -1.6418, -0.4111, -0.6697,  1.8450,  0.9657,  0.8198,  1.2071]])\n",
      "torch.Size([6, 16])\n"
     ]
    }
   ],
   "source": [
    "embed = torch.nn.Embedding(6, 16)\n",
    "em_sentence = embed(sentence_int).detach()\n",
    "print(em_sentence)\n",
    "print(em_sentence.shape)"
   ]
  },
  {
   "cell_type": "code",
   "execution_count": 7,
   "metadata": {},
   "outputs": [],
   "source": [
    "dq, dk, dv = 24, 24, 28\n",
    "d = 16\n",
    "\n",
    "Wq = torch.rand(dq, d)\n",
    "Wk = torch.rand(dk, d)\n",
    "Wv = torch.rand(dv, d)"
   ]
  },
  {
   "cell_type": "code",
   "execution_count": 10,
   "metadata": {},
   "outputs": [],
   "source": [
    "x_2 = em_sentence[1]\n",
    "query_2 = Wq.matmul(x_2)\n",
    "key_2 = Wk.matmul(x_2)\n",
    "value_2 = Wv.matmul(x_2)"
   ]
  },
  {
   "cell_type": "code",
   "execution_count": 11,
   "metadata": {},
   "outputs": [
    {
     "name": "stdout",
     "output_type": "stream",
     "text": [
      "tensor([4.5860, 1.3814, 2.9541, 2.7033, 1.1153, 3.5659, 2.4749, 2.2770, 1.9234,\n",
      "        1.0491, 2.9597, 2.7807, 2.3700, 3.5059, 2.1491, 2.2071, 2.3074, 3.6233,\n",
      "        1.1800, 1.1342, 2.8493, 1.6950, 1.3724, 0.1668])\n"
     ]
    }
   ],
   "source": [
    "print(query_2)"
   ]
  },
  {
   "cell_type": "code",
   "execution_count": 14,
   "metadata": {},
   "outputs": [],
   "source": [
    "keys = Wk.matmul(em_sentence.T).T\n",
    "values = Wv.matmul(em_sentence.T).T"
   ]
  },
  {
   "cell_type": "code",
   "execution_count": 15,
   "metadata": {},
   "outputs": [
    {
     "name": "stdout",
     "output_type": "stream",
     "text": [
      "torch.Size([6, 24])\n",
      "torch.Size([6, 28])\n"
     ]
    }
   ],
   "source": [
    "print(keys.shape)\n",
    "print(values.shape)"
   ]
  },
  {
   "cell_type": "code",
   "execution_count": null,
   "metadata": {},
   "outputs": [],
   "source": [
    "omega_2 = query_2.matmul(keys)"
   ]
  }
 ],
 "metadata": {
  "kernelspec": {
   "display_name": "base",
   "language": "python",
   "name": "python3"
  },
  "language_info": {
   "codemirror_mode": {
    "name": "ipython",
    "version": 3
   },
   "file_extension": ".py",
   "mimetype": "text/x-python",
   "name": "python",
   "nbconvert_exporter": "python",
   "pygments_lexer": "ipython3",
   "version": "3.9.12"
  },
  "orig_nbformat": 4,
  "vscode": {
   "interpreter": {
    "hash": "32ead7328f812e5f24a9f025bfe41866126050f644cde533ea40c72b70422593"
   }
  }
 },
 "nbformat": 4,
 "nbformat_minor": 2
}
