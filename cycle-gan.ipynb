{
 "cells": [
  {
   "cell_type": "code",
   "execution_count": 1,
   "metadata": {},
   "outputs": [
    {
     "name": "stdout",
     "output_type": "stream",
     "text": [
      "using device: cuda\n"
     ]
    }
   ],
   "source": [
    "import itertools\n",
    "import torch\n",
    "import torch.nn as nn\n",
    "import torch.optim as optim\n",
    "\n",
    "from PIL import Image\n",
    "from torchvision import transforms\n",
    "from torchvision.utils import make_grid\n",
    "from torchsummary import summary\n",
    "\n",
    "from matplotlib import pyplot as plt\n",
    "\n",
    "%matplotlib inline\n",
    "\n",
    "device = \"cuda\" if torch.cuda.is_available() else \"cpu\"\n",
    "print(\"using device: %s\" % device)"
   ]
  },
  {
   "cell_type": "code",
   "execution_count": 3,
   "metadata": {},
   "outputs": [
    {
     "name": "stdout",
     "output_type": "stream",
     "text": [
      "train data: 3067, test data: 1021\n"
     ]
    }
   ],
   "source": [
    "# prepare data\n",
    "\n",
    "from appleorange import AppleOrangeDataset\n",
    "from torch.utils.data import DataLoader\n",
    "\n",
    "IMAGE_SIZE = 256\n",
    "\n",
    "transform = transforms.Compose([\n",
    "    transforms.Resize(int(IMAGE_SIZE * 1.33)),\n",
    "    transforms.RandomCrop(IMAGE_SIZE),\n",
    "    transforms.RandomHorizontalFlip(),\n",
    "    transforms.ToTensor(),\n",
    "    transforms.Normalize((0.5,0.5,0.5),(0.5,0.5,0.5))\n",
    "])\n",
    "\n",
    "apple_train_dir = r\"E:\\datasets\\apple-orange\\apples_train\"\n",
    "orange_train_dir = r\"E:\\datasets\\apple-orange\\oranges_train\"\n",
    "\n",
    "apple_test_dir = r\"E:\\datasets\\apple-orange\\apples_test\"\n",
    "orange_test_dir = r\"E:\\datasets\\apple-orange\\oranges_test\"\n",
    "\n",
    "train_ds = AppleOrangeDataset(apple_train_dir, orange_train_dir, transforms=transform, device=device)\n",
    "test_ds = AppleOrangeDataset(apple_test_dir, orange_test_dir, transforms=transform, device=device)\n",
    "\n",
    "train_dl = DataLoader(train_ds, batch_size=128, shuffle=True, collate_fn=train_ds.collate_fn)\n",
    "test_dl = DataLoader(test_ds, batch_size=5, shuffle=False, collate_fn=test_ds.collate_fn)\n",
    "\n",
    "print(\"train data: %d, test data: %d\" % (len(train_ds), len(test_ds)))\n"
   ]
  },
  {
   "cell_type": "code",
   "execution_count": null,
   "metadata": {},
   "outputs": [],
   "source": [
    "# prepare network\n",
    "def weight_init_normal(m):\n",
    "    classname = m.__class__.__name__\n",
    "    if classname.find(\"Conv\") != -1:\n",
    "        nn.init.normal_(m.weight.data, 0.0, 0.02)\n",
    "        if hasattr(m, \"bias\") and m.bias is not None:\n",
    "            nn.init.constant_(m.bias.data, 0.0)\n",
    "    elif classname.find(\"BatchNorm2d\") != -1:\n",
    "        nn.init.normal_(m.weight.data, 1.0, 0.02)\n",
    "        nn.init.constant_(m.bias.data, 0.0)\n",
    "    else:\n",
    "        pass # default\n",
    "\n",
    "class ResBlock(nn.Module):\n",
    "    def __init__(self, in_features):\n",
    "        super().__init__()\n",
    "        self.block = nn.Sequential(\n",
    "            nn.ReflectionPad2d(1),\n",
    "            nn.Conv2d(in_features, in_features, 3),\n",
    "            nn.InstanceNorm2d(in_features),\n",
    "            nn.ReLU(),\n",
    "            nn.ReflectionPad2d(1),\n",
    "            nn.Conv2d(in_features, in_features, 3),\n",
    "            nn.InstanceNorm2d(in_features)\n",
    "        )\n",
    "\n",
    "    def forward(self, xs):\n",
    "        return self.bolck(xs) + xs\n",
    "\n",
    "class GeneratorResNet(nn.Module):\n",
    "    def __init__(self, num_residual_blocks=9):\n",
    "        super().__init__(self)\n",
    "        out_features = 64\n",
    "        channels = 3\n",
    "\n",
    "        layers = [\n",
    "            nn.ReflectionPad2d(3),\n",
    "            nn.Conv2d(channels, out_features, kernel_size=7),\n",
    "            nn.InstanceNorm2d(out_features),\n",
    "            nn.ReLU()\n",
    "        ]\n",
    "\n",
    "\n",
    "        # Downsampling\n",
    "        in_features = out_features\n",
    "        for _ in range(2):\n",
    "            out_features *= 2\n",
    "            layers += [\n",
    "                nn.Conv2d(in_features, out_features, kernel_size=3, stride=2, padding=1),\n",
    "                nn.InstanceNorm2d(out_features),\n",
    "                nn.ReLU()\n",
    "            ]\n",
    "            in_features = out_features\n",
    "        \n",
    "        # Residual blocks\n",
    "        for _ in range(num_residual_blocks):\n",
    "            layers.append(ResBlock(out_features))\n",
    "        \n",
    "        # Upsampling\n",
    "        for _ in range(2):\n",
    "            out_features //= 2\n",
    "            layers += [\n",
    "                nn.Upsample(scale_factor=2),\n",
    "                nn.Conv2d(in_features, out_features, kernel_size=3, stride=1, padding=1),\n",
    "                nn.InstanceNorm2d(out_features),\n",
    "                nn.ReLU()\n",
    "            ]\n",
    "            in_features = out_features\n",
    "        \n",
    "        # Output lay\n",
    "        layers += [\n",
    "            nn.ReflectionPad2d(3),\n",
    "            nn.Conv2d(out_features, channels, kernel_size=7),\n",
    "            nn.Tanh()\n",
    "        ]\n",
    "\n",
    "        self.model = nn.Sequential(layers)\n",
    "        self.apply(weight_init_normal)\n",
    "\n",
    "    def forward(self, xs):\n",
    "        return self.model(xs)\n",
    "\n"
   ]
  }
 ],
 "metadata": {
  "interpreter": {
   "hash": "f3fd24fba084f9d424971e08f1b72df2e11e336536fbb3cd19066b77485ac16c"
  },
  "kernelspec": {
   "display_name": "Python 3.9.5 ('base')",
   "language": "python",
   "name": "python3"
  },
  "language_info": {
   "codemirror_mode": {
    "name": "ipython",
    "version": 3
   },
   "file_extension": ".py",
   "mimetype": "text/x-python",
   "name": "python",
   "nbconvert_exporter": "python",
   "pygments_lexer": "ipython3",
   "version": "3.9.5"
  },
  "orig_nbformat": 4
 },
 "nbformat": 4,
 "nbformat_minor": 2
}
