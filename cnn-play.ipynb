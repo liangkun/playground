{
 "cells": [
  {
   "cell_type": "code",
   "execution_count": 1,
   "source": [
    "import torch\r\n",
    "import torch.nn as nn\r\n",
    "import torch.nn.functional as F\r\n",
    "import torch.optim as optim\r\n",
    "from torch.utils.data import TensorDataset, DataLoader\r\n",
    "\r\n",
    "import numpy as np\r\n",
    "import matplotlib.pyplot as plt\r\n",
    "import seaborn as sbn\r\n",
    "import cv2\r\n",
    "\r\n",
    "from cifar import CifarDataset\r\n",
    "\r\n",
    "%matplotlib inline\r\n",
    "\r\n",
    "device = 'cuda' if torch.cuda.is_available() else 'cpu'\r\n",
    "print(device)"
   ],
   "outputs": [
    {
     "output_type": "stream",
     "name": "stdout",
     "text": [
      "cuda\n"
     ]
    }
   ],
   "metadata": {}
  },
  {
   "cell_type": "code",
   "execution_count": 2,
   "source": [
    "dataset = CifarDataset('./data/cifar-10-batches-py', device)\r\n",
    "test_dataset, val_dataset = torch.utils.data.random_split(TensorDataset(dataset.test_x, dataset.test_y), [5000, 5000])\r\n",
    "print(\"training samples: %d\" % len(dataset))\r\n",
    "print(\"validation samples: %d\" % len(val_dataset))\r\n",
    "print(\"test samples: %d\" % len(test_dataset))"
   ],
   "outputs": [
    {
     "output_type": "stream",
     "name": "stdout",
     "text": [
      "training samples: 50000\n",
      "validation samples: 5000\n",
      "test samples: 5000\n"
     ]
    }
   ],
   "metadata": {}
  },
  {
   "cell_type": "code",
   "execution_count": 3,
   "source": [
    "train_loader = DataLoader(dataset, batch_size=64, shuffle=True)\r\n",
    "val_loader = DataLoader(val_dataset, batch_size=1000, shuffle=False)\r\n",
    "test_loader = DataLoader(test_dataset, batch_size=1000, shuffle=False)"
   ],
   "outputs": [],
   "metadata": {}
  },
  {
   "cell_type": "code",
   "execution_count": 11,
   "source": [
    "model = nn.Sequential(\r\n",
    "    nn.Conv2d(3, 64, kernel_size=3, padding=1),\r\n",
    "    nn.BatchNorm2d(64),\r\n",
    "    nn.ReLU(),\r\n",
    "    nn.MaxPool2d(2),\r\n",
    "    nn.Conv2d(64, 128, kernel_size=3, padding=1),\r\n",
    "    nn.Dropout2d(0.25),\r\n",
    "    nn.BatchNorm2d(128),\r\n",
    "    nn.ReLU(),\r\n",
    "    nn.MaxPool2d(2),\r\n",
    "    nn.Conv2d(128, 256, kernel_size=3, padding=1),\r\n",
    "    nn.Dropout2d(0.25),\r\n",
    "    nn.BatchNorm2d(256),\r\n",
    "    nn.ReLU(),\r\n",
    "    nn.MaxPool2d(2),\r\n",
    "    nn.Conv2d(256, 512, kernel_size=3, padding=1),\r\n",
    "    nn.Dropout2d(0.25),\r\n",
    "    nn.BatchNorm2d(512),\r\n",
    "    nn.ReLU(),\r\n",
    "    nn.MaxPool2d(2),\r\n",
    "    nn.Flatten(),\r\n",
    "    nn.Linear(512*2*2, 1024),\r\n",
    "    nn.BatchNorm1d(1024),\r\n",
    "    nn.ReLU(),\r\n",
    "    nn.Linear(1024, 10)\r\n",
    ").to(device)\r\n",
    "lossfn = nn.CrossEntropyLoss()\r\n",
    "optimizer = optim.AdamW(model.parameters(), lr=1e-3)\r\n",
    "scheduler = optim.lr_scheduler.ReduceLROnPlateau(optimizer, mode='min', verbose=True,\r\n",
    "    factor=0.2, patience=5, threshold=1e-3, threshold_mode='rel', min_lr=5e-6)"
   ],
   "outputs": [],
   "metadata": {}
  },
  {
   "cell_type": "code",
   "execution_count": 12,
   "source": [
    "from torchsummary import summary\r\n",
    "summary(model, torch.zeros(1, 3, 32, 32))"
   ],
   "outputs": [
    {
     "output_type": "error",
     "ename": "RuntimeError",
     "evalue": "Failed to run torchsummary. See above stack traces for more details. Executed layers up to: [Conv2d: 1-1, BatchNorm2d: 1-2, ReLU: 1-3, MaxPool2d: 1-4, Conv2d: 1-5, Dropout2d: 1-6, BatchNorm2d: 1-7, ReLU: 1-8, MaxPool2d: 1-9, Conv2d: 1-10, Dropout2d: 1-11]",
     "traceback": [
      "\u001b[1;31m---------------------------------------------------------------------------\u001b[0m",
      "\u001b[1;31mRuntimeError\u001b[0m                              Traceback (most recent call last)",
      "\u001b[1;32mD:\\Programs\\anaconda3\\lib\\site-packages\\torchsummary\\torchsummary.py\u001b[0m in \u001b[0;36msummary\u001b[1;34m(model, input_data, batch_dim, branching, col_names, col_width, depth, device, dtypes, verbose, *args, **kwargs)\u001b[0m\n\u001b[0;32m    139\u001b[0m             \u001b[1;32mwith\u001b[0m \u001b[0mtorch\u001b[0m\u001b[1;33m.\u001b[0m\u001b[0mno_grad\u001b[0m\u001b[1;33m(\u001b[0m\u001b[1;33m)\u001b[0m\u001b[1;33m:\u001b[0m\u001b[1;33m\u001b[0m\u001b[1;33m\u001b[0m\u001b[0m\n\u001b[1;32m--> 140\u001b[1;33m                 \u001b[0m_\u001b[0m \u001b[1;33m=\u001b[0m \u001b[0mmodel\u001b[0m\u001b[1;33m.\u001b[0m\u001b[0mto\u001b[0m\u001b[1;33m(\u001b[0m\u001b[0mdevice\u001b[0m\u001b[1;33m)\u001b[0m\u001b[1;33m(\u001b[0m\u001b[1;33m*\u001b[0m\u001b[0mx\u001b[0m\u001b[1;33m,\u001b[0m \u001b[1;33m*\u001b[0m\u001b[0margs\u001b[0m\u001b[1;33m,\u001b[0m \u001b[1;33m**\u001b[0m\u001b[0mkwargs\u001b[0m\u001b[1;33m)\u001b[0m  \u001b[1;31m# type: ignore[misc]\u001b[0m\u001b[1;33m\u001b[0m\u001b[1;33m\u001b[0m\u001b[0m\n\u001b[0m\u001b[0;32m    141\u001b[0m         \u001b[1;32mexcept\u001b[0m \u001b[0mException\u001b[0m \u001b[1;32mas\u001b[0m \u001b[0me\u001b[0m\u001b[1;33m:\u001b[0m\u001b[1;33m\u001b[0m\u001b[1;33m\u001b[0m\u001b[0m\n",
      "\u001b[1;32mD:\\Programs\\anaconda3\\lib\\site-packages\\torch\\nn\\modules\\module.py\u001b[0m in \u001b[0;36m_call_impl\u001b[1;34m(self, *input, **kwargs)\u001b[0m\n\u001b[0;32m    726\u001b[0m         \u001b[1;32melse\u001b[0m\u001b[1;33m:\u001b[0m\u001b[1;33m\u001b[0m\u001b[1;33m\u001b[0m\u001b[0m\n\u001b[1;32m--> 727\u001b[1;33m             \u001b[0mresult\u001b[0m \u001b[1;33m=\u001b[0m \u001b[0mself\u001b[0m\u001b[1;33m.\u001b[0m\u001b[0mforward\u001b[0m\u001b[1;33m(\u001b[0m\u001b[1;33m*\u001b[0m\u001b[0minput\u001b[0m\u001b[1;33m,\u001b[0m \u001b[1;33m**\u001b[0m\u001b[0mkwargs\u001b[0m\u001b[1;33m)\u001b[0m\u001b[1;33m\u001b[0m\u001b[1;33m\u001b[0m\u001b[0m\n\u001b[0m\u001b[0;32m    728\u001b[0m         for hook in itertools.chain(\n",
      "\u001b[1;32mD:\\Programs\\anaconda3\\lib\\site-packages\\torch\\nn\\modules\\container.py\u001b[0m in \u001b[0;36mforward\u001b[1;34m(self, input)\u001b[0m\n\u001b[0;32m    116\u001b[0m         \u001b[1;32mfor\u001b[0m \u001b[0mmodule\u001b[0m \u001b[1;32min\u001b[0m \u001b[0mself\u001b[0m\u001b[1;33m:\u001b[0m\u001b[1;33m\u001b[0m\u001b[1;33m\u001b[0m\u001b[0m\n\u001b[1;32m--> 117\u001b[1;33m             \u001b[0minput\u001b[0m \u001b[1;33m=\u001b[0m \u001b[0mmodule\u001b[0m\u001b[1;33m(\u001b[0m\u001b[0minput\u001b[0m\u001b[1;33m)\u001b[0m\u001b[1;33m\u001b[0m\u001b[1;33m\u001b[0m\u001b[0m\n\u001b[0m\u001b[0;32m    118\u001b[0m         \u001b[1;32mreturn\u001b[0m \u001b[0minput\u001b[0m\u001b[1;33m\u001b[0m\u001b[1;33m\u001b[0m\u001b[0m\n",
      "\u001b[1;32mD:\\Programs\\anaconda3\\lib\\site-packages\\torch\\nn\\modules\\module.py\u001b[0m in \u001b[0;36m_call_impl\u001b[1;34m(self, *input, **kwargs)\u001b[0m\n\u001b[0;32m    726\u001b[0m         \u001b[1;32melse\u001b[0m\u001b[1;33m:\u001b[0m\u001b[1;33m\u001b[0m\u001b[1;33m\u001b[0m\u001b[0m\n\u001b[1;32m--> 727\u001b[1;33m             \u001b[0mresult\u001b[0m \u001b[1;33m=\u001b[0m \u001b[0mself\u001b[0m\u001b[1;33m.\u001b[0m\u001b[0mforward\u001b[0m\u001b[1;33m(\u001b[0m\u001b[1;33m*\u001b[0m\u001b[0minput\u001b[0m\u001b[1;33m,\u001b[0m \u001b[1;33m**\u001b[0m\u001b[0mkwargs\u001b[0m\u001b[1;33m)\u001b[0m\u001b[1;33m\u001b[0m\u001b[1;33m\u001b[0m\u001b[0m\n\u001b[0m\u001b[0;32m    728\u001b[0m         for hook in itertools.chain(\n",
      "\u001b[1;32mD:\\Programs\\anaconda3\\lib\\site-packages\\torch\\nn\\modules\\batchnorm.py\u001b[0m in \u001b[0;36mforward\u001b[1;34m(self, input)\u001b[0m\n\u001b[0;32m    130\u001b[0m         \"\"\"\n\u001b[1;32m--> 131\u001b[1;33m         return F.batch_norm(\n\u001b[0m\u001b[0;32m    132\u001b[0m             \u001b[0minput\u001b[0m\u001b[1;33m,\u001b[0m\u001b[1;33m\u001b[0m\u001b[1;33m\u001b[0m\u001b[0m\n",
      "\u001b[1;32mD:\\Programs\\anaconda3\\lib\\site-packages\\torch\\nn\\functional.py\u001b[0m in \u001b[0;36mbatch_norm\u001b[1;34m(input, running_mean, running_var, weight, bias, training, momentum, eps)\u001b[0m\n\u001b[0;32m   2055\u001b[0m \u001b[1;33m\u001b[0m\u001b[0m\n\u001b[1;32m-> 2056\u001b[1;33m     return torch.batch_norm(\n\u001b[0m\u001b[0;32m   2057\u001b[0m         \u001b[0minput\u001b[0m\u001b[1;33m,\u001b[0m \u001b[0mweight\u001b[0m\u001b[1;33m,\u001b[0m \u001b[0mbias\u001b[0m\u001b[1;33m,\u001b[0m \u001b[0mrunning_mean\u001b[0m\u001b[1;33m,\u001b[0m \u001b[0mrunning_var\u001b[0m\u001b[1;33m,\u001b[0m\u001b[1;33m\u001b[0m\u001b[1;33m\u001b[0m\u001b[0m\n",
      "\u001b[1;31mRuntimeError\u001b[0m: running_mean should contain 256 elements not 64",
      "\nThe above exception was the direct cause of the following exception:\n",
      "\u001b[1;31mRuntimeError\u001b[0m                              Traceback (most recent call last)",
      "\u001b[1;32m<ipython-input-12-0fdedfd8abde>\u001b[0m in \u001b[0;36m<module>\u001b[1;34m\u001b[0m\n\u001b[0;32m      1\u001b[0m \u001b[1;32mfrom\u001b[0m \u001b[0mtorchsummary\u001b[0m \u001b[1;32mimport\u001b[0m \u001b[0msummary\u001b[0m\u001b[1;33m\u001b[0m\u001b[1;33m\u001b[0m\u001b[0m\n\u001b[1;32m----> 2\u001b[1;33m \u001b[0msummary\u001b[0m\u001b[1;33m(\u001b[0m\u001b[0mmodel\u001b[0m\u001b[1;33m,\u001b[0m \u001b[0mtorch\u001b[0m\u001b[1;33m.\u001b[0m\u001b[0mzeros\u001b[0m\u001b[1;33m(\u001b[0m\u001b[1;36m1\u001b[0m\u001b[1;33m,\u001b[0m \u001b[1;36m3\u001b[0m\u001b[1;33m,\u001b[0m \u001b[1;36m32\u001b[0m\u001b[1;33m,\u001b[0m \u001b[1;36m32\u001b[0m\u001b[1;33m)\u001b[0m\u001b[1;33m)\u001b[0m\u001b[1;33m\u001b[0m\u001b[1;33m\u001b[0m\u001b[0m\n\u001b[0m",
      "\u001b[1;32mD:\\Programs\\anaconda3\\lib\\site-packages\\torchsummary\\torchsummary.py\u001b[0m in \u001b[0;36msummary\u001b[1;34m(model, input_data, batch_dim, branching, col_names, col_width, depth, device, dtypes, verbose, *args, **kwargs)\u001b[0m\n\u001b[0;32m    141\u001b[0m         \u001b[1;32mexcept\u001b[0m \u001b[0mException\u001b[0m \u001b[1;32mas\u001b[0m \u001b[0me\u001b[0m\u001b[1;33m:\u001b[0m\u001b[1;33m\u001b[0m\u001b[1;33m\u001b[0m\u001b[0m\n\u001b[0;32m    142\u001b[0m             \u001b[0mexecuted_layers\u001b[0m \u001b[1;33m=\u001b[0m \u001b[1;33m[\u001b[0m\u001b[0mlayer\u001b[0m \u001b[1;32mfor\u001b[0m \u001b[0mlayer\u001b[0m \u001b[1;32min\u001b[0m \u001b[0msummary_list\u001b[0m \u001b[1;32mif\u001b[0m \u001b[0mlayer\u001b[0m\u001b[1;33m.\u001b[0m\u001b[0mexecuted\u001b[0m\u001b[1;33m]\u001b[0m\u001b[1;33m\u001b[0m\u001b[1;33m\u001b[0m\u001b[0m\n\u001b[1;32m--> 143\u001b[1;33m             raise RuntimeError(\n\u001b[0m\u001b[0;32m    144\u001b[0m                 \u001b[1;34m\"Failed to run torchsummary. See above stack traces for more details. \"\u001b[0m\u001b[1;33m\u001b[0m\u001b[1;33m\u001b[0m\u001b[0m\n\u001b[0;32m    145\u001b[0m                 \u001b[1;34m\"Executed layers up to: {}\"\u001b[0m\u001b[1;33m.\u001b[0m\u001b[0mformat\u001b[0m\u001b[1;33m(\u001b[0m\u001b[0mexecuted_layers\u001b[0m\u001b[1;33m)\u001b[0m\u001b[1;33m\u001b[0m\u001b[1;33m\u001b[0m\u001b[0m\n",
      "\u001b[1;31mRuntimeError\u001b[0m: Failed to run torchsummary. See above stack traces for more details. Executed layers up to: [Conv2d: 1-1, BatchNorm2d: 1-2, ReLU: 1-3, MaxPool2d: 1-4, Conv2d: 1-5, Dropout2d: 1-6, BatchNorm2d: 1-7, ReLU: 1-8, MaxPool2d: 1-9, Conv2d: 1-10, Dropout2d: 1-11]"
     ]
    }
   ],
   "metadata": {}
  },
  {
   "cell_type": "code",
   "execution_count": null,
   "source": [
    "def train_batch(x, y, model, lossfn, opt):\r\n",
    "    model.train()\r\n",
    "    yp = model(x)\r\n",
    "    loss = lossfn(yp, y)\r\n",
    "    loss.backward()\r\n",
    "    opt.step()\r\n",
    "    opt.zero_grad()\r\n",
    "    return loss.item()\r\n",
    "\r\n",
    "@torch.no_grad()\r\n",
    "def val_loss(x, y, model, lossfn):\r\n",
    "    model.eval()\r\n",
    "    yp = model(x)\r\n",
    "    loss = lossfn(yp, y)\r\n",
    "    return loss.item()\r\n",
    "\r\n",
    "@torch.no_grad()\r\n",
    "def accuracy(x, y, model):\r\n",
    "    model.eval()\r\n",
    "    yp = model(x).argmax(dim=1)\r\n",
    "    is_correct = (y == yp).cpu().numpy().tolist()\r\n",
    "    return is_correct"
   ],
   "outputs": [],
   "metadata": {}
  },
  {
   "cell_type": "code",
   "execution_count": null,
   "source": [
    "import time\r\n",
    "train_losses = []\r\n",
    "val_losses = []\r\n",
    "val_acces = []\r\n",
    "\r\n",
    "for epoch in range(50):\r\n",
    "    start = time.time()\r\n",
    "\r\n",
    "    # training\r\n",
    "    epoch_train_losses = []\r\n",
    "    for x, y in train_loader:\r\n",
    "        loss = train_batch(x, y, model, lossfn, optimizer)\r\n",
    "        epoch_train_losses.append(loss)\r\n",
    "    epoch_train_loss = np.mean(epoch_train_losses)\r\n",
    "    train_losses.append(epoch_train_loss)\r\n",
    "\r\n",
    "    epoch_val_losses = []\r\n",
    "    epoch_val_acces = []\r\n",
    "    for x, y in val_loader:\r\n",
    "        loss = val_loss(x, y, model, lossfn)\r\n",
    "        epoch_val_losses.append(loss)\r\n",
    "        is_correct = accuracy(x, y, model)\r\n",
    "        epoch_val_acces.extend(is_correct)\r\n",
    "    epoch_val_loss = np.mean(epoch_val_losses)\r\n",
    "    val_losses.append(epoch_val_loss)\r\n",
    "    epoch_val_acc = np.mean(epoch_val_acces)\r\n",
    "    val_acces.append(epoch_val_acc)\r\n",
    "    scheduler.step(epoch_val_loss)\r\n",
    "\r\n",
    "    end = time.time()\r\n",
    "    print(\"epoch %d, %.2fs, trloss: %.2f, valloss: %.2f, valcc: %.2f\" %\r\n",
    "          (epoch, end-start, epoch_train_loss, epoch_val_loss, epoch_val_acc*100))\r\n",
    "\r\n",
    "test_acces = []\r\n",
    "for x, y in test_loader:\r\n",
    "    is_correct = accuracy(x, y, model)\r\n",
    "    test_acces.extend(is_correct)\r\n",
    "test_acc = np.mean(test_acces)\r\n",
    "print(\"======================\")\r\n",
    "print(\"final test acc %.2f\" % (test_acc*100))\r\n",
    "print(\"======================\")\r\n"
   ],
   "outputs": [
    {
     "output_type": "stream",
     "name": "stdout",
     "text": [
      "epoch 0, 11.37s, trloss: 1.33, valloss: 1.05, valcc: 63.42\n",
      "epoch 1, 11.26s, trloss: 0.97, valloss: 0.92, valcc: 68.12\n",
      "epoch 2, 11.30s, trloss: 0.82, valloss: 0.82, valcc: 71.52\n",
      "epoch 3, 11.27s, trloss: 0.74, valloss: 0.80, valcc: 72.42\n",
      "epoch 4, 11.52s, trloss: 0.68, valloss: 0.68, valcc: 76.82\n",
      "epoch 5, 11.49s, trloss: 0.63, valloss: 0.72, valcc: 75.12\n",
      "epoch 6, 11.20s, trloss: 0.58, valloss: 0.74, valcc: 76.36\n",
      "epoch 7, 11.21s, trloss: 0.55, valloss: 0.72, valcc: 76.20\n",
      "epoch 8, 11.17s, trloss: 0.51, valloss: 0.69, valcc: 77.64\n",
      "epoch 9, 11.22s, trloss: 0.48, valloss: 0.67, valcc: 78.42\n",
      "epoch 10, 11.17s, trloss: 0.45, valloss: 0.82, valcc: 75.38\n",
      "epoch 11, 11.27s, trloss: 0.43, valloss: 0.71, valcc: 77.54\n",
      "epoch 12, 11.18s, trloss: 0.41, valloss: 0.65, valcc: 79.94\n",
      "epoch 13, 11.19s, trloss: 0.39, valloss: 0.69, valcc: 77.80\n",
      "epoch 14, 11.19s, trloss: 0.37, valloss: 0.68, valcc: 78.56\n",
      "epoch 15, 11.18s, trloss: 0.35, valloss: 0.83, valcc: 76.84\n",
      "epoch 16, 11.18s, trloss: 0.34, valloss: 0.66, valcc: 80.38\n",
      "epoch 17, 11.17s, trloss: 0.32, valloss: 0.66, valcc: 80.42\n",
      "Epoch    19: reducing learning rate of group 0 to 2.0000e-04.\n",
      "epoch 18, 11.17s, trloss: 0.31, valloss: 0.77, valcc: 77.52\n",
      "epoch 19, 11.17s, trloss: 0.23, valloss: 0.60, valcc: 82.38\n",
      "epoch 20, 11.23s, trloss: 0.21, valloss: 0.61, valcc: 82.52\n",
      "epoch 21, 11.19s, trloss: 0.20, valloss: 0.62, valcc: 82.62\n",
      "epoch 22, 11.17s, trloss: 0.19, valloss: 0.62, valcc: 82.66\n",
      "epoch 23, 11.18s, trloss: 0.18, valloss: 0.63, valcc: 82.76\n",
      "epoch 24, 11.16s, trloss: 0.18, valloss: 0.65, valcc: 82.84\n",
      "Epoch    26: reducing learning rate of group 0 to 4.0000e-05.\n",
      "epoch 25, 11.18s, trloss: 0.17, valloss: 0.63, valcc: 82.94\n",
      "epoch 26, 11.19s, trloss: 0.16, valloss: 0.62, valcc: 83.18\n",
      "epoch 27, 11.20s, trloss: 0.15, valloss: 0.62, valcc: 83.36\n",
      "epoch 28, 11.30s, trloss: 0.15, valloss: 0.62, valcc: 83.44\n",
      "epoch 29, 11.17s, trloss: 0.15, valloss: 0.62, valcc: 83.34\n",
      "epoch 30, 11.32s, trloss: 0.15, valloss: 0.63, valcc: 83.28\n",
      "Epoch    32: reducing learning rate of group 0 to 8.0000e-06.\n",
      "epoch 31, 11.20s, trloss: 0.15, valloss: 0.63, valcc: 83.02\n",
      "epoch 32, 11.18s, trloss: 0.14, valloss: 0.61, valcc: 83.58\n",
      "epoch 33, 11.19s, trloss: 0.14, valloss: 0.62, valcc: 83.66\n",
      "epoch 34, 11.17s, trloss: 0.14, valloss: 0.62, valcc: 83.46\n",
      "epoch 35, 11.20s, trloss: 0.14, valloss: 0.62, valcc: 83.66\n",
      "epoch 36, 11.19s, trloss: 0.15, valloss: 0.62, valcc: 83.38\n",
      "Epoch    38: reducing learning rate of group 0 to 5.0000e-06.\n",
      "epoch 37, 11.20s, trloss: 0.14, valloss: 0.62, valcc: 83.42\n",
      "epoch 38, 11.18s, trloss: 0.14, valloss: 0.62, valcc: 83.52\n",
      "epoch 39, 11.25s, trloss: 0.14, valloss: 0.62, valcc: 83.40\n",
      "epoch 40, 11.18s, trloss: 0.14, valloss: 0.63, valcc: 83.30\n",
      "epoch 41, 11.18s, trloss: 0.14, valloss: 0.63, valcc: 83.68\n",
      "epoch 42, 11.18s, trloss: 0.14, valloss: 0.62, valcc: 83.38\n",
      "epoch 43, 11.20s, trloss: 0.14, valloss: 0.62, valcc: 83.48\n",
      "epoch 44, 11.19s, trloss: 0.14, valloss: 0.63, valcc: 83.74\n",
      "epoch 45, 11.20s, trloss: 0.14, valloss: 0.62, valcc: 83.58\n",
      "epoch 46, 11.22s, trloss: 0.14, valloss: 0.62, valcc: 83.34\n",
      "epoch 47, 11.20s, trloss: 0.14, valloss: 0.62, valcc: 83.62\n",
      "epoch 48, 11.18s, trloss: 0.14, valloss: 0.62, valcc: 83.50\n",
      "epoch 49, 11.23s, trloss: 0.14, valloss: 0.62, valcc: 83.54\n",
      "======================\n",
      "final test acc 84.06\n",
      "======================\n"
     ]
    }
   ],
   "metadata": {}
  },
  {
   "cell_type": "code",
   "execution_count": null,
   "source": [
    "plt.subplot(2, 1, 1)\r\n",
    "plt.plot(train_losses, 'b', label='train loss')\r\n",
    "plt.plot(val_losses, 'g', label='val loss')\r\n",
    "plt.xlabel('epoch')\r\n",
    "plt.ylabel('loss')\r\n",
    "plt.legend()\r\n",
    "\r\n",
    "plt.subplot(2, 1, 2)\r\n",
    "plt.plot(val_acces, 'g', label='val acc')\r\n",
    "plt.xlabel('epoch')\r\n",
    "plt.ylabel('accuracy')\r\n",
    "plt.legend()"
   ],
   "outputs": [
    {
     "output_type": "execute_result",
     "data": {
      "text/plain": [
       "<matplotlib.legend.Legend at 0x1f23ed318b0>"
      ]
     },
     "metadata": {},
     "execution_count": 8
    },
    {
     "output_type": "display_data",
     "data": {
      "image/png": "[encoded data removed]",
      "text/plain": [
       "<Figure size 432x288 with 2 Axes>"
      ]
     },
     "metadata": {
      "needs_background": "light"
     }
    }
   ],
   "metadata": {}
  },
  {
   "cell_type": "code",
   "execution_count": null,
   "source": [],
   "outputs": [],
   "metadata": {}
  },
  {
   "cell_type": "code",
   "execution_count": null,
   "source": [],
   "outputs": [],
   "metadata": {}
  }
 ],
 "metadata": {
  "orig_nbformat": 4,
  "language_info": {
   "name": "python",
   "version": "3.8.3",
   "mimetype": "text/x-python",
   "codemirror_mode": {
    "name": "ipython",
    "version": 3
   },
   "pygments_lexer": "ipython3",
   "nbconvert_exporter": "python",
   "file_extension": ".py"
  },
  "kernelspec": {
   "name": "python3",
   "display_name": "Python 3.8.3 64-bit ('base': conda)"
  },
  "interpreter": {
   "hash": "cc7436e339fb98a79d349a4b39e7546d0317772cabf469fe9b68837ca1e48e7d"
  }
 },
 "nbformat": 4,
 "nbformat_minor": 2
}