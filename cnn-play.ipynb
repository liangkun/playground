{
 "cells": [
  {
   "cell_type": "code",
   "execution_count": 1,
   "source": [
    "import torch\r\n",
    "import torch.nn as nn\r\n",
    "import torch.nn.functional as F\r\n",
    "import torch.optim as optim\r\n",
    "from torch.utils.data import TensorDataset, DataLoader\r\n",
    "\r\n",
    "import numpy as np\r\n",
    "import matplotlib.pyplot as plt\r\n",
    "import seaborn as sbn\r\n",
    "import cv2\r\n",
    "\r\n",
    "from cifar import CifarDataset\r\n",
    "\r\n",
    "%matplotlib inline\r\n",
    "\r\n",
    "device = 'cuda' if torch.cuda.is_available() else 'cpu'\r\n",
    "print(device)"
   ],
   "outputs": [
    {
     "output_type": "stream",
     "name": "stdout",
     "text": [
      "cuda\n"
     ]
    }
   ],
   "metadata": {}
  },
  {
   "cell_type": "code",
   "execution_count": 2,
   "source": [
    "dataset = CifarDataset('./data/cifar-10-batches-py', device)\r\n",
    "test_dataset, val_dataset = torch.utils.data.random_split(TensorDataset(dataset.test_x, dataset.test_y), [5000, 5000])\r\n",
    "print(\"training samples: %d\" % len(dataset))\r\n",
    "print(\"validation samples: %d\" % len(val_dataset))\r\n",
    "print(\"test samples: %d\" % len(test_dataset))"
   ],
   "outputs": [
    {
     "output_type": "stream",
     "name": "stdout",
     "text": [
      "training samples: 50000\n",
      "validation samples: 5000\n",
      "test samples: 5000\n"
     ]
    }
   ],
   "metadata": {}
  },
  {
   "cell_type": "code",
   "execution_count": 3,
   "source": [
    "train_loader = DataLoader(dataset, batch_size=64, shuffle=True)\r\n",
    "val_loader = DataLoader(val_dataset, batch_size=1000, shuffle=False)\r\n",
    "test_loader = DataLoader(test_dataset, batch_size=1000, shuffle=False)"
   ],
   "outputs": [],
   "metadata": {}
  },
  {
   "cell_type": "code",
   "execution_count": 14,
   "source": [
    "model = nn.Sequential(\r\n",
    "    nn.Conv2d(3, 64, kernel_size=3, padding=1),\r\n",
    "    nn.BatchNorm2d(64),\r\n",
    "    nn.ReLU(),\r\n",
    "    nn.MaxPool2d(2),\r\n",
    "    nn.Conv2d(64, 128, kernel_size=3, padding=1),\r\n",
    "    nn.Dropout2d(0.25),\r\n",
    "    nn.BatchNorm2d(128),\r\n",
    "    nn.ReLU(),\r\n",
    "    nn.MaxPool2d(2),\r\n",
    "    nn.Conv2d(128, 64, kernel_size=3, padding=1),\r\n",
    "    nn.Dropout2d(0.25),\r\n",
    "    nn.BatchNorm2d(64),\r\n",
    "    nn.ReLU(),\r\n",
    "    nn.MaxPool2d(2),\r\n",
    "    nn.Flatten(),\r\n",
    "    nn.Linear(64*4*4, 256),\r\n",
    "    nn.BatchNorm1d(256),\r\n",
    "    nn.ReLU(),\r\n",
    "    nn.Linear(256, 10)\r\n",
    ").to(device)\r\n",
    "lossfn = nn.CrossEntropyLoss()\r\n",
    "optimizer = optim.AdamW(model.parameters(), lr=1e-3)\r\n",
    "scheduler = optim.lr_scheduler.ReduceLROnPlateau(optimizer, mode='min', verbose=True,\r\n",
    "    factor=0.2, patience=5, threshold=1e-3, threshold_mode='rel', min_lr=5e-6)"
   ],
   "outputs": [],
   "metadata": {}
  },
  {
   "cell_type": "code",
   "execution_count": 15,
   "source": [
    "from torchsummary import summary\r\n",
    "summary(model, torch.zeros(1, 3, 32, 32))"
   ],
   "outputs": [
    {
     "output_type": "stream",
     "name": "stdout",
     "text": [
      "==========================================================================================\n",
      "Layer (type:depth-idx)                   Output Shape              Param #\n",
      "==========================================================================================\n",
      "├─Conv2d: 1-1                            [-1, 64, 32, 32]          1,792\n",
      "├─BatchNorm2d: 1-2                       [-1, 64, 32, 32]          128\n",
      "├─ReLU: 1-3                              [-1, 64, 32, 32]          --\n",
      "├─MaxPool2d: 1-4                         [-1, 64, 16, 16]          --\n",
      "├─Conv2d: 1-5                            [-1, 128, 16, 16]         73,856\n",
      "├─Dropout2d: 1-6                         [-1, 128, 16, 16]         --\n",
      "├─BatchNorm2d: 1-7                       [-1, 128, 16, 16]         256\n",
      "├─ReLU: 1-8                              [-1, 128, 16, 16]         --\n",
      "├─MaxPool2d: 1-9                         [-1, 128, 8, 8]           --\n",
      "├─Conv2d: 1-10                           [-1, 64, 8, 8]            73,792\n",
      "├─Dropout2d: 1-11                        [-1, 64, 8, 8]            --\n",
      "├─BatchNorm2d: 1-12                      [-1, 64, 8, 8]            128\n",
      "├─ReLU: 1-13                             [-1, 64, 8, 8]            --\n",
      "├─MaxPool2d: 1-14                        [-1, 64, 4, 4]            --\n",
      "├─Flatten: 1-15                          [-1, 1024]                --\n",
      "├─Linear: 1-16                           [-1, 256]                 262,400\n",
      "├─BatchNorm1d: 1-17                      [-1, 256]                 512\n",
      "├─ReLU: 1-18                             [-1, 256]                 --\n",
      "├─Linear: 1-19                           [-1, 10]                  2,570\n",
      "==========================================================================================\n",
      "Total params: 415,434\n",
      "Trainable params: 415,434\n",
      "Non-trainable params: 0\n",
      "Total mult-adds (M): 25.63\n",
      "==========================================================================================\n",
      "Input size (MB): 0.01\n",
      "Forward/backward pass size (MB): 1.57\n",
      "Params size (MB): 1.58\n",
      "Estimated Total Size (MB): 3.16\n",
      "==========================================================================================\n"
     ]
    },
    {
     "output_type": "execute_result",
     "data": {
      "text/plain": [
       "==========================================================================================\n",
       "Layer (type:depth-idx)                   Output Shape              Param #\n",
       "==========================================================================================\n",
       "├─Conv2d: 1-1                            [-1, 64, 32, 32]          1,792\n",
       "├─BatchNorm2d: 1-2                       [-1, 64, 32, 32]          128\n",
       "├─ReLU: 1-3                              [-1, 64, 32, 32]          --\n",
       "├─MaxPool2d: 1-4                         [-1, 64, 16, 16]          --\n",
       "├─Conv2d: 1-5                            [-1, 128, 16, 16]         73,856\n",
       "├─Dropout2d: 1-6                         [-1, 128, 16, 16]         --\n",
       "├─BatchNorm2d: 1-7                       [-1, 128, 16, 16]         256\n",
       "├─ReLU: 1-8                              [-1, 128, 16, 16]         --\n",
       "├─MaxPool2d: 1-9                         [-1, 128, 8, 8]           --\n",
       "├─Conv2d: 1-10                           [-1, 64, 8, 8]            73,792\n",
       "├─Dropout2d: 1-11                        [-1, 64, 8, 8]            --\n",
       "├─BatchNorm2d: 1-12                      [-1, 64, 8, 8]            128\n",
       "├─ReLU: 1-13                             [-1, 64, 8, 8]            --\n",
       "├─MaxPool2d: 1-14                        [-1, 64, 4, 4]            --\n",
       "├─Flatten: 1-15                          [-1, 1024]                --\n",
       "├─Linear: 1-16                           [-1, 256]                 262,400\n",
       "├─BatchNorm1d: 1-17                      [-1, 256]                 512\n",
       "├─ReLU: 1-18                             [-1, 256]                 --\n",
       "├─Linear: 1-19                           [-1, 10]                  2,570\n",
       "==========================================================================================\n",
       "Total params: 415,434\n",
       "Trainable params: 415,434\n",
       "Non-trainable params: 0\n",
       "Total mult-adds (M): 25.63\n",
       "==========================================================================================\n",
       "Input size (MB): 0.01\n",
       "Forward/backward pass size (MB): 1.57\n",
       "Params size (MB): 1.58\n",
       "Estimated Total Size (MB): 3.16\n",
       "=========================================================================================="
      ]
     },
     "metadata": {},
     "execution_count": 15
    }
   ],
   "metadata": {}
  },
  {
   "cell_type": "code",
   "execution_count": 16,
   "source": [
    "def train_batch(x, y, model, lossfn, opt):\r\n",
    "    model.train()\r\n",
    "    yp = model(x)\r\n",
    "    loss = lossfn(yp, y)\r\n",
    "    loss.backward()\r\n",
    "    opt.step()\r\n",
    "    opt.zero_grad()\r\n",
    "    return loss.item()\r\n",
    "\r\n",
    "@torch.no_grad()\r\n",
    "def val_loss(x, y, model, lossfn):\r\n",
    "    model.eval()\r\n",
    "    yp = model(x)\r\n",
    "    loss = lossfn(yp, y)\r\n",
    "    return loss.item()\r\n",
    "\r\n",
    "@torch.no_grad()\r\n",
    "def accuracy(x, y, model):\r\n",
    "    model.eval()\r\n",
    "    yp = model(x).argmax(dim=1)\r\n",
    "    is_correct = (y == yp).cpu().numpy().tolist()\r\n",
    "    return is_correct"
   ],
   "outputs": [],
   "metadata": {}
  },
  {
   "cell_type": "code",
   "execution_count": 17,
   "source": [
    "import time\r\n",
    "train_losses = []\r\n",
    "val_losses = []\r\n",
    "val_acces = []\r\n",
    "\r\n",
    "for epoch in range(50):\r\n",
    "    start = time.time()\r\n",
    "\r\n",
    "    # training\r\n",
    "    epoch_train_losses = []\r\n",
    "    for x, y in train_loader:\r\n",
    "        loss = train_batch(x, y, model, lossfn, optimizer)\r\n",
    "        epoch_train_losses.append(loss)\r\n",
    "    epoch_train_loss = np.mean(epoch_train_losses)\r\n",
    "    train_losses.append(epoch_train_loss)\r\n",
    "\r\n",
    "    epoch_val_losses = []\r\n",
    "    epoch_val_acces = []\r\n",
    "    for x, y in val_loader:\r\n",
    "        loss = val_loss(x, y, model, lossfn)\r\n",
    "        epoch_val_losses.append(loss)\r\n",
    "        is_correct = accuracy(x, y, model)\r\n",
    "        epoch_val_acces.extend(is_correct)\r\n",
    "    epoch_val_loss = np.mean(epoch_val_losses)\r\n",
    "    val_losses.append(epoch_val_loss)\r\n",
    "    epoch_val_acc = np.mean(epoch_val_acces)\r\n",
    "    val_acces.append(epoch_val_acc)\r\n",
    "    scheduler.step(epoch_val_loss)\r\n",
    "\r\n",
    "    end = time.time()\r\n",
    "    print(\"epoch %d, %.2fs, trloss: %.2f, valloss: %.2f, valcc: %.2f\" %\r\n",
    "          (epoch, end-start, epoch_train_loss, epoch_val_loss, epoch_val_acc*100))\r\n",
    "\r\n",
    "test_acces = []\r\n",
    "for x, y in test_loader:\r\n",
    "    is_correct = accuracy(x, y, model)\r\n",
    "    test_acces.extend(is_correct)\r\n",
    "test_acc = np.mean(test_acces)\r\n",
    "print(\"======================\")\r\n",
    "print(\"final test acc %.2f\" % (test_acc*100))\r\n",
    "print(\"======================\")\r\n"
   ],
   "outputs": [
    {
     "output_type": "stream",
     "name": "stdout",
     "text": [
      "epoch 0, 10.78s, trloss: 2.05, valloss: 1.85, valcc: 33.22\n",
      "epoch 1, 10.71s, trloss: 1.78, valloss: 1.67, valcc: 39.58\n",
      "epoch 2, 10.80s, trloss: 1.64, valloss: 1.56, valcc: 43.22\n",
      "epoch 3, 10.82s, trloss: 1.55, valloss: 1.48, valcc: 46.42\n",
      "epoch 4, 10.90s, trloss: 1.48, valloss: 1.39, valcc: 50.10\n",
      "epoch 5, 10.75s, trloss: 1.42, valloss: 1.34, valcc: 51.62\n",
      "epoch 6, 10.57s, trloss: 1.36, valloss: 1.30, valcc: 53.08\n",
      "epoch 7, 10.73s, trloss: 1.31, valloss: 1.26, valcc: 54.34\n",
      "epoch 8, 10.67s, trloss: 1.27, valloss: 1.31, valcc: 52.94\n",
      "epoch 9, 10.69s, trloss: 1.23, valloss: 1.17, valcc: 58.34\n",
      "epoch 10, 10.74s, trloss: 1.19, valloss: 1.46, valcc: 49.50\n",
      "epoch 11, 10.71s, trloss: 1.15, valloss: 1.11, valcc: 61.18\n",
      "epoch 12, 10.73s, trloss: 1.13, valloss: 1.94, valcc: 40.42\n",
      "epoch 13, 10.65s, trloss: 1.10, valloss: 1.28, valcc: 56.50\n",
      "epoch 14, 10.83s, trloss: 1.07, valloss: 1.05, valcc: 63.30\n",
      "epoch 15, 10.65s, trloss: 1.05, valloss: 1.03, valcc: 64.56\n",
      "epoch 16, 10.67s, trloss: 1.03, valloss: 1.40, valcc: 53.34\n",
      "epoch 17, 10.68s, trloss: 1.01, valloss: 2.26, valcc: 36.74\n",
      "epoch 18, 10.67s, trloss: 0.99, valloss: 1.08, valcc: 62.66\n",
      "epoch 19, 10.63s, trloss: 0.98, valloss: 1.01, valcc: 65.08\n",
      "epoch 20, 10.58s, trloss: 0.96, valloss: 1.13, valcc: 61.32\n",
      "epoch 21, 10.62s, trloss: 0.94, valloss: 0.97, valcc: 66.24\n",
      "epoch 22, 10.56s, trloss: 0.93, valloss: 1.12, valcc: 61.48\n",
      "epoch 23, 10.64s, trloss: 0.92, valloss: 0.90, valcc: 69.08\n",
      "epoch 24, 10.62s, trloss: 0.90, valloss: 0.96, valcc: 67.08\n",
      "epoch 25, 10.67s, trloss: 0.90, valloss: 0.93, valcc: 67.20\n",
      "epoch 26, 10.70s, trloss: 0.89, valloss: 1.01, valcc: 65.62\n"
     ]
    },
    {
     "output_type": "error",
     "ename": "KeyboardInterrupt",
     "evalue": "",
     "traceback": [
      "\u001b[1;31m---------------------------------------------------------------------------\u001b[0m",
      "\u001b[1;31mKeyboardInterrupt\u001b[0m                         Traceback (most recent call last)",
      "\u001b[1;32m<ipython-input-17-d213c1936ae5>\u001b[0m in \u001b[0;36m<module>\u001b[1;34m\u001b[0m\n\u001b[0;32m     10\u001b[0m     \u001b[0mepoch_train_losses\u001b[0m \u001b[1;33m=\u001b[0m \u001b[1;33m[\u001b[0m\u001b[1;33m]\u001b[0m\u001b[1;33m\u001b[0m\u001b[1;33m\u001b[0m\u001b[0m\n\u001b[0;32m     11\u001b[0m     \u001b[1;32mfor\u001b[0m \u001b[0mx\u001b[0m\u001b[1;33m,\u001b[0m \u001b[0my\u001b[0m \u001b[1;32min\u001b[0m \u001b[0mtrain_loader\u001b[0m\u001b[1;33m:\u001b[0m\u001b[1;33m\u001b[0m\u001b[1;33m\u001b[0m\u001b[0m\n\u001b[1;32m---> 12\u001b[1;33m         \u001b[0mloss\u001b[0m \u001b[1;33m=\u001b[0m \u001b[0mtrain_batch\u001b[0m\u001b[1;33m(\u001b[0m\u001b[0mx\u001b[0m\u001b[1;33m,\u001b[0m \u001b[0my\u001b[0m\u001b[1;33m,\u001b[0m \u001b[0mmodel\u001b[0m\u001b[1;33m,\u001b[0m \u001b[0mlossfn\u001b[0m\u001b[1;33m,\u001b[0m \u001b[0moptimizer\u001b[0m\u001b[1;33m)\u001b[0m\u001b[1;33m\u001b[0m\u001b[1;33m\u001b[0m\u001b[0m\n\u001b[0m\u001b[0;32m     13\u001b[0m         \u001b[0mepoch_train_losses\u001b[0m\u001b[1;33m.\u001b[0m\u001b[0mappend\u001b[0m\u001b[1;33m(\u001b[0m\u001b[0mloss\u001b[0m\u001b[1;33m)\u001b[0m\u001b[1;33m\u001b[0m\u001b[1;33m\u001b[0m\u001b[0m\n\u001b[0;32m     14\u001b[0m     \u001b[0mepoch_train_loss\u001b[0m \u001b[1;33m=\u001b[0m \u001b[0mnp\u001b[0m\u001b[1;33m.\u001b[0m\u001b[0mmean\u001b[0m\u001b[1;33m(\u001b[0m\u001b[0mepoch_train_losses\u001b[0m\u001b[1;33m)\u001b[0m\u001b[1;33m\u001b[0m\u001b[1;33m\u001b[0m\u001b[0m\n",
      "\u001b[1;32m<ipython-input-16-2b03b37947b7>\u001b[0m in \u001b[0;36mtrain_batch\u001b[1;34m(x, y, model, lossfn, opt)\u001b[0m\n\u001b[0;32m      1\u001b[0m \u001b[1;32mdef\u001b[0m \u001b[0mtrain_batch\u001b[0m\u001b[1;33m(\u001b[0m\u001b[0mx\u001b[0m\u001b[1;33m,\u001b[0m \u001b[0my\u001b[0m\u001b[1;33m,\u001b[0m \u001b[0mmodel\u001b[0m\u001b[1;33m,\u001b[0m \u001b[0mlossfn\u001b[0m\u001b[1;33m,\u001b[0m \u001b[0mopt\u001b[0m\u001b[1;33m)\u001b[0m\u001b[1;33m:\u001b[0m\u001b[1;33m\u001b[0m\u001b[1;33m\u001b[0m\u001b[0m\n\u001b[0;32m      2\u001b[0m     \u001b[0mmodel\u001b[0m\u001b[1;33m.\u001b[0m\u001b[0mtrain\u001b[0m\u001b[1;33m(\u001b[0m\u001b[1;33m)\u001b[0m\u001b[1;33m\u001b[0m\u001b[1;33m\u001b[0m\u001b[0m\n\u001b[1;32m----> 3\u001b[1;33m     \u001b[0myp\u001b[0m \u001b[1;33m=\u001b[0m \u001b[0mmodel\u001b[0m\u001b[1;33m(\u001b[0m\u001b[0mx\u001b[0m\u001b[1;33m)\u001b[0m\u001b[1;33m\u001b[0m\u001b[1;33m\u001b[0m\u001b[0m\n\u001b[0m\u001b[0;32m      4\u001b[0m     \u001b[0mloss\u001b[0m \u001b[1;33m=\u001b[0m \u001b[0mlossfn\u001b[0m\u001b[1;33m(\u001b[0m\u001b[0myp\u001b[0m\u001b[1;33m,\u001b[0m \u001b[0my\u001b[0m\u001b[1;33m)\u001b[0m\u001b[1;33m\u001b[0m\u001b[1;33m\u001b[0m\u001b[0m\n\u001b[0;32m      5\u001b[0m     \u001b[0mloss\u001b[0m\u001b[1;33m.\u001b[0m\u001b[0mbackward\u001b[0m\u001b[1;33m(\u001b[0m\u001b[1;33m)\u001b[0m\u001b[1;33m\u001b[0m\u001b[1;33m\u001b[0m\u001b[0m\n",
      "\u001b[1;32mD:\\Programs\\anaconda3\\lib\\site-packages\\torch\\nn\\modules\\module.py\u001b[0m in \u001b[0;36m_call_impl\u001b[1;34m(self, *input, **kwargs)\u001b[0m\n\u001b[0;32m    725\u001b[0m             \u001b[0mresult\u001b[0m \u001b[1;33m=\u001b[0m \u001b[0mself\u001b[0m\u001b[1;33m.\u001b[0m\u001b[0m_slow_forward\u001b[0m\u001b[1;33m(\u001b[0m\u001b[1;33m*\u001b[0m\u001b[0minput\u001b[0m\u001b[1;33m,\u001b[0m \u001b[1;33m**\u001b[0m\u001b[0mkwargs\u001b[0m\u001b[1;33m)\u001b[0m\u001b[1;33m\u001b[0m\u001b[1;33m\u001b[0m\u001b[0m\n\u001b[0;32m    726\u001b[0m         \u001b[1;32melse\u001b[0m\u001b[1;33m:\u001b[0m\u001b[1;33m\u001b[0m\u001b[1;33m\u001b[0m\u001b[0m\n\u001b[1;32m--> 727\u001b[1;33m             \u001b[0mresult\u001b[0m \u001b[1;33m=\u001b[0m \u001b[0mself\u001b[0m\u001b[1;33m.\u001b[0m\u001b[0mforward\u001b[0m\u001b[1;33m(\u001b[0m\u001b[1;33m*\u001b[0m\u001b[0minput\u001b[0m\u001b[1;33m,\u001b[0m \u001b[1;33m**\u001b[0m\u001b[0mkwargs\u001b[0m\u001b[1;33m)\u001b[0m\u001b[1;33m\u001b[0m\u001b[1;33m\u001b[0m\u001b[0m\n\u001b[0m\u001b[0;32m    728\u001b[0m         for hook in itertools.chain(\n\u001b[0;32m    729\u001b[0m                 \u001b[0m_global_forward_hooks\u001b[0m\u001b[1;33m.\u001b[0m\u001b[0mvalues\u001b[0m\u001b[1;33m(\u001b[0m\u001b[1;33m)\u001b[0m\u001b[1;33m,\u001b[0m\u001b[1;33m\u001b[0m\u001b[1;33m\u001b[0m\u001b[0m\n",
      "\u001b[1;32mD:\\Programs\\anaconda3\\lib\\site-packages\\torch\\nn\\modules\\container.py\u001b[0m in \u001b[0;36mforward\u001b[1;34m(self, input)\u001b[0m\n\u001b[0;32m    115\u001b[0m     \u001b[1;32mdef\u001b[0m \u001b[0mforward\u001b[0m\u001b[1;33m(\u001b[0m\u001b[0mself\u001b[0m\u001b[1;33m,\u001b[0m \u001b[0minput\u001b[0m\u001b[1;33m)\u001b[0m\u001b[1;33m:\u001b[0m\u001b[1;33m\u001b[0m\u001b[1;33m\u001b[0m\u001b[0m\n\u001b[0;32m    116\u001b[0m         \u001b[1;32mfor\u001b[0m \u001b[0mmodule\u001b[0m \u001b[1;32min\u001b[0m \u001b[0mself\u001b[0m\u001b[1;33m:\u001b[0m\u001b[1;33m\u001b[0m\u001b[1;33m\u001b[0m\u001b[0m\n\u001b[1;32m--> 117\u001b[1;33m             \u001b[0minput\u001b[0m \u001b[1;33m=\u001b[0m \u001b[0mmodule\u001b[0m\u001b[1;33m(\u001b[0m\u001b[0minput\u001b[0m\u001b[1;33m)\u001b[0m\u001b[1;33m\u001b[0m\u001b[1;33m\u001b[0m\u001b[0m\n\u001b[0m\u001b[0;32m    118\u001b[0m         \u001b[1;32mreturn\u001b[0m \u001b[0minput\u001b[0m\u001b[1;33m\u001b[0m\u001b[1;33m\u001b[0m\u001b[0m\n\u001b[0;32m    119\u001b[0m \u001b[1;33m\u001b[0m\u001b[0m\n",
      "\u001b[1;32mD:\\Programs\\anaconda3\\lib\\site-packages\\torch\\nn\\modules\\module.py\u001b[0m in \u001b[0;36m_call_impl\u001b[1;34m(self, *input, **kwargs)\u001b[0m\n\u001b[0;32m    725\u001b[0m             \u001b[0mresult\u001b[0m \u001b[1;33m=\u001b[0m \u001b[0mself\u001b[0m\u001b[1;33m.\u001b[0m\u001b[0m_slow_forward\u001b[0m\u001b[1;33m(\u001b[0m\u001b[1;33m*\u001b[0m\u001b[0minput\u001b[0m\u001b[1;33m,\u001b[0m \u001b[1;33m**\u001b[0m\u001b[0mkwargs\u001b[0m\u001b[1;33m)\u001b[0m\u001b[1;33m\u001b[0m\u001b[1;33m\u001b[0m\u001b[0m\n\u001b[0;32m    726\u001b[0m         \u001b[1;32melse\u001b[0m\u001b[1;33m:\u001b[0m\u001b[1;33m\u001b[0m\u001b[1;33m\u001b[0m\u001b[0m\n\u001b[1;32m--> 727\u001b[1;33m             \u001b[0mresult\u001b[0m \u001b[1;33m=\u001b[0m \u001b[0mself\u001b[0m\u001b[1;33m.\u001b[0m\u001b[0mforward\u001b[0m\u001b[1;33m(\u001b[0m\u001b[1;33m*\u001b[0m\u001b[0minput\u001b[0m\u001b[1;33m,\u001b[0m \u001b[1;33m**\u001b[0m\u001b[0mkwargs\u001b[0m\u001b[1;33m)\u001b[0m\u001b[1;33m\u001b[0m\u001b[1;33m\u001b[0m\u001b[0m\n\u001b[0m\u001b[0;32m    728\u001b[0m         for hook in itertools.chain(\n\u001b[0;32m    729\u001b[0m                 \u001b[0m_global_forward_hooks\u001b[0m\u001b[1;33m.\u001b[0m\u001b[0mvalues\u001b[0m\u001b[1;33m(\u001b[0m\u001b[1;33m)\u001b[0m\u001b[1;33m,\u001b[0m\u001b[1;33m\u001b[0m\u001b[1;33m\u001b[0m\u001b[0m\n",
      "\u001b[1;32mD:\\Programs\\anaconda3\\lib\\site-packages\\torch\\nn\\modules\\conv.py\u001b[0m in \u001b[0;36mforward\u001b[1;34m(self, input)\u001b[0m\n\u001b[0;32m    421\u001b[0m \u001b[1;33m\u001b[0m\u001b[0m\n\u001b[0;32m    422\u001b[0m     \u001b[1;32mdef\u001b[0m \u001b[0mforward\u001b[0m\u001b[1;33m(\u001b[0m\u001b[0mself\u001b[0m\u001b[1;33m,\u001b[0m \u001b[0minput\u001b[0m\u001b[1;33m:\u001b[0m \u001b[0mTensor\u001b[0m\u001b[1;33m)\u001b[0m \u001b[1;33m->\u001b[0m \u001b[0mTensor\u001b[0m\u001b[1;33m:\u001b[0m\u001b[1;33m\u001b[0m\u001b[1;33m\u001b[0m\u001b[0m\n\u001b[1;32m--> 423\u001b[1;33m         \u001b[1;32mreturn\u001b[0m \u001b[0mself\u001b[0m\u001b[1;33m.\u001b[0m\u001b[0m_conv_forward\u001b[0m\u001b[1;33m(\u001b[0m\u001b[0minput\u001b[0m\u001b[1;33m,\u001b[0m \u001b[0mself\u001b[0m\u001b[1;33m.\u001b[0m\u001b[0mweight\u001b[0m\u001b[1;33m)\u001b[0m\u001b[1;33m\u001b[0m\u001b[1;33m\u001b[0m\u001b[0m\n\u001b[0m\u001b[0;32m    424\u001b[0m \u001b[1;33m\u001b[0m\u001b[0m\n\u001b[0;32m    425\u001b[0m \u001b[1;32mclass\u001b[0m \u001b[0mConv3d\u001b[0m\u001b[1;33m(\u001b[0m\u001b[0m_ConvNd\u001b[0m\u001b[1;33m)\u001b[0m\u001b[1;33m:\u001b[0m\u001b[1;33m\u001b[0m\u001b[1;33m\u001b[0m\u001b[0m\n",
      "\u001b[1;32mD:\\Programs\\anaconda3\\lib\\site-packages\\torch\\nn\\modules\\conv.py\u001b[0m in \u001b[0;36m_conv_forward\u001b[1;34m(self, input, weight)\u001b[0m\n\u001b[0;32m    417\u001b[0m                             \u001b[0mweight\u001b[0m\u001b[1;33m,\u001b[0m \u001b[0mself\u001b[0m\u001b[1;33m.\u001b[0m\u001b[0mbias\u001b[0m\u001b[1;33m,\u001b[0m \u001b[0mself\u001b[0m\u001b[1;33m.\u001b[0m\u001b[0mstride\u001b[0m\u001b[1;33m,\u001b[0m\u001b[1;33m\u001b[0m\u001b[1;33m\u001b[0m\u001b[0m\n\u001b[0;32m    418\u001b[0m                             _pair(0), self.dilation, self.groups)\n\u001b[1;32m--> 419\u001b[1;33m         return F.conv2d(input, weight, self.bias, self.stride,\n\u001b[0m\u001b[0;32m    420\u001b[0m                         self.padding, self.dilation, self.groups)\n\u001b[0;32m    421\u001b[0m \u001b[1;33m\u001b[0m\u001b[0m\n",
      "\u001b[1;31mKeyboardInterrupt\u001b[0m: "
     ]
    }
   ],
   "metadata": {}
  },
  {
   "cell_type": "code",
   "execution_count": null,
   "source": [
    "plt.subplot(2, 1, 1)\r\n",
    "plt.plot(train_losses, 'b', label='train loss')\r\n",
    "plt.plot(val_losses, 'g', label='val loss')\r\n",
    "plt.xlabel('epoch')\r\n",
    "plt.ylabel('loss')\r\n",
    "plt.legend()\r\n",
    "\r\n",
    "plt.subplot(2, 1, 2)\r\n",
    "plt.plot(val_acces, 'g', label='val acc')\r\n",
    "plt.xlabel('epoch')\r\n",
    "plt.ylabel('accuracy')\r\n",
    "plt.legend()"
   ],
   "outputs": [
    {
     "output_type": "execute_result",
     "data": {
      "text/plain": [
       "<matplotlib.legend.Legend at 0x21ab2d559d0>"
      ]
     },
     "metadata": {},
     "execution_count": 9
    },
    {
     "output_type": "display_data",
     "data": {
      "image/png": "[encoded data removed]",
      "text/plain": [
       "<Figure size 432x288 with 2 Axes>"
      ]
     },
     "metadata": {
      "needs_background": "light"
     }
    }
   ],
   "metadata": {}
  },
  {
   "cell_type": "code",
   "execution_count": null,
   "source": [],
   "outputs": [],
   "metadata": {}
  },
  {
   "cell_type": "code",
   "execution_count": null,
   "source": [],
   "outputs": [],
   "metadata": {}
  }
 ],
 "metadata": {
  "orig_nbformat": 4,
  "language_info": {
   "name": "python",
   "version": "3.8.3",
   "mimetype": "text/x-python",
   "codemirror_mode": {
    "name": "ipython",
    "version": 3
   },
   "pygments_lexer": "ipython3",
   "nbconvert_exporter": "python",
   "file_extension": ".py"
  },
  "kernelspec": {
   "name": "python3",
   "display_name": "Python 3.8.3 64-bit ('base': conda)"
  },
  "interpreter": {
   "hash": "cc7436e339fb98a79d349a4b39e7546d0317772cabf469fe9b68837ca1e48e7d"
  }
 },
 "nbformat": 4,
 "nbformat_minor": 2
}